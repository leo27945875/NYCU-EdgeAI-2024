{
  "cells": [
    {
      "cell_type": "markdown",
      "metadata": {
        "id": "C8rFS5-s47wa"
      },
      "source": [
        "# Lab4: Quantize DeiT"
      ]
    },
    {
      "cell_type": "markdown",
      "metadata": {
        "id": "_XdmT91OIoXZ"
      },
      "source": [
        "### Setup"
      ]
    },
    {
      "cell_type": "markdown",
      "metadata": {
        "id": "6y79O4JiBTHG"
      },
      "source": [
        "Install the newest version of torch, torchvision, and timm."
      ]
    },
    {
      "cell_type": "code",
      "execution_count": null,
      "metadata": {
        "id": "zM6gf9u-99jp"
      },
      "outputs": [],
      "source": [
        "# install the newest version of torch, torchvision, and timm\n",
        "!pip3 uninstall --yes torch torchaudio torchvision torchtext torchdata timm\n",
        "!pip3 install torch torchaudio torchvision torchtext torchdata timm"
      ]
    },
    {
      "cell_type": "markdown",
      "metadata": {
        "id": "D8Q5YDLQBWjw"
      },
      "source": [
        "Import Required Libraries"
      ]
    },
    {
      "cell_type": "code",
      "execution_count": 1,
      "metadata": {
        "id": "4OYDr727IoXb"
      },
      "outputs": [
        {
          "name": "stderr",
          "output_type": "stream",
          "text": [
            "/home/pairlab/anaconda3/envs/EdgeAI/lib/python3.11/site-packages/tqdm/auto.py:21: TqdmWarning: IProgress not found. Please update jupyter and ipywidgets. See https://ipywidgets.readthedocs.io/en/stable/user_install.html\n",
            "  from .autonotebook import tqdm as notebook_tqdm\n"
          ]
        },
        {
          "data": {
            "text/plain": [
              "True"
            ]
          },
          "execution_count": 1,
          "metadata": {},
          "output_type": "execute_result"
        }
      ],
      "source": [
        "import numpy as np\n",
        "import torch\n",
        "from torch import nn\n",
        "import os\n",
        "from tqdm.auto import tqdm\n",
        "import math\n",
        "import time\n",
        "\n",
        "from torchvision import datasets, transforms\n",
        "from timm.data import create_transform\n",
        "from timm.data.constants import IMAGENET_DEFAULT_MEAN, IMAGENET_DEFAULT_STD\n",
        "from torch.utils.data import DataLoader\n",
        "\n",
        "from torch.export import export, ExportedProgram\n",
        "from torchvision.models.mobilenetv2 import MobileNet_V2_Weights\n",
        "from torch._export import capture_pre_autograd_graph\n",
        "from torch.ao.quantization.quantize_pt2e import convert_pt2e, prepare_pt2e, prepare_qat_pt2e\n",
        "from torch.ao.quantization.quantizer.xnnpack_quantizer import (\n",
        "    get_symmetric_quantization_config,\n",
        "    XNNPACKQuantizer,\n",
        ")\n",
        "\n",
        "torch.cuda.is_available()"
      ]
    },
    {
      "cell_type": "markdown",
      "metadata": {
        "id": "7_C-tyDO0A8n"
      },
      "source": [
        "Preparing Dataset"
      ]
    },
    {
      "cell_type": "code",
      "execution_count": 2,
      "metadata": {
        "id": "M8GuVUhpfFGs"
      },
      "outputs": [],
      "source": [
        "def data_loader_to_list(data_loader, length=128):\n",
        "    new_data_loader = []\n",
        "    if length < 0:\n",
        "        return list(data_loader)\n",
        "    else:\n",
        "        for i, data in enumerate(data_loader):\n",
        "            if i >= length:\n",
        "                break\n",
        "            new_data_loader.append(data)\n",
        "\n",
        "    return new_data_loader\n",
        "\n",
        "def build_dataset_CIFAR100(is_train, data_path):\n",
        "    transform = build_transform(is_train)\n",
        "    dataset = datasets.CIFAR100(data_path, train=is_train, transform=transform, download=True)\n",
        "    nb_classes = 100\n",
        "    return dataset, nb_classes\n",
        "\n",
        "def build_transform(is_train):\n",
        "    input_size = 224\n",
        "    eval_crop_ratio = 1.0\n",
        "\n",
        "    resize_im = input_size > 32\n",
        "    if is_train:\n",
        "        # this should always dispatch to transforms_imagenet_train\n",
        "        transform = create_transform(\n",
        "            input_size=input_size,\n",
        "            is_training=True,\n",
        "            color_jitter=0.3,\n",
        "            auto_augment='rand-m9-mstd0.5-inc1',\n",
        "            interpolation='bicubic',\n",
        "            re_prob=0.0,\n",
        "            re_mode='pixel',\n",
        "            re_count=1,\n",
        "        )\n",
        "        if not resize_im:\n",
        "            # replace RandomResizedCropAndInterpolation with\n",
        "            # RandomCrop\n",
        "            transform.transforms[0] = transforms.RandomCrop(\n",
        "                input_size, padding=4)\n",
        "        return transform\n",
        "\n",
        "    t = []\n",
        "    if resize_im:\n",
        "        size = int(input_size / eval_crop_ratio)\n",
        "        t.append(\n",
        "            transforms.Resize(size, interpolation=3),  # to maintain same ratio w.r.t. 224 images\n",
        "        )\n",
        "        t.append(transforms.CenterCrop(input_size))\n",
        "\n",
        "    t.append(transforms.ToTensor())\n",
        "    t.append(transforms.Normalize(IMAGENET_DEFAULT_MEAN, IMAGENET_DEFAULT_STD))\n",
        "    return transforms.Compose(t)\n",
        "\n",
        "def prepare_data(batch_size):\n",
        "    train_set, nb_classes = build_dataset_CIFAR100(is_train=True, data_path='./data')\n",
        "    test_set, _ = build_dataset_CIFAR100(is_train=False, data_path='./data')\n",
        "\n",
        "    train_loader = DataLoader(train_set, batch_size=batch_size, shuffle=True, drop_last=True, num_workers=8)\n",
        "    test_loader = DataLoader(test_set, batch_size=batch_size, shuffle=False, drop_last=True, num_workers=8)\n",
        "    return train_loader, test_loader, nb_classes\n"
      ]
    },
    {
      "cell_type": "markdown",
      "metadata": {
        "id": "MkRHq_jf0Ghu"
      },
      "source": [
        "Training and Calibration"
      ]
    },
    {
      "cell_type": "code",
      "execution_count": 3,
      "metadata": {
        "id": "ZtW8xOC10I-o"
      },
      "outputs": [],
      "source": [
        "def calibrate(model: nn.Module, data_loader) -> None:\n",
        "    calibration_data = data_loader_to_list(data_loader, math.ceil(128/data_loader.batch_size)) # calibrate 128 images\n",
        "    for image, _ in calibration_data:\n",
        "        model(image)\n",
        "    return\n",
        "\n",
        "def train_one_epoch(model, criterion, optimizer, data_loader, device):\n",
        "    cnt = 0\n",
        "    for image, target in tqdm(data_loader):\n",
        "        cnt += 1\n",
        "        image, target = image.to(device), target.to(device)\n",
        "        output = model(image)\n",
        "        loss = criterion(output, target)\n",
        "        optimizer.zero_grad()\n",
        "        loss.backward()\n",
        "        optimizer.step()"
      ]
    },
    {
      "cell_type": "markdown",
      "metadata": {
        "id": "Iz0IUvWG0J7X"
      },
      "source": [
        "Evaluation"
      ]
    },
    {
      "cell_type": "code",
      "execution_count": 4,
      "metadata": {
        "id": "gP9mvNU40MI9"
      },
      "outputs": [],
      "source": [
        "def get_size_of_model(model):\n",
        "    torch.save(model.state_dict(), \"temp.p\")\n",
        "    model_size = os.path.getsize(\"temp.p\")/1e6\n",
        "    os.remove('temp.p')\n",
        "    return model_size\n",
        "\n",
        "def evaluate_model(model, data_loader, device):\n",
        "    model.to(device)\n",
        "    correct = 0\n",
        "    total = 0\n",
        "    with torch.no_grad():\n",
        "        for images, labels in tqdm(data_loader):\n",
        "            images, labels = images.to(device), labels.to(device)\n",
        "            outputs = model(images)\n",
        "            _, predicted = torch.max(outputs, 1)\n",
        "            total += labels.size(0)\n",
        "            correct += (predicted == labels).sum().item()\n",
        "\n",
        "    accuracy = 100 * correct / total\n",
        "    print(f'Accuracy of the model on the test images: {accuracy}%')\n",
        "    return accuracy\n",
        "\n",
        "def getMiniTestDataset():\n",
        "    # Create a test_loader with batch size = 1\n",
        "    _, test_loader, _ = prepare_data(batch_size=1)\n",
        "\n",
        "    # Prepare to collect 10 images per class\n",
        "    class_images = [[] for _ in range(100)]\n",
        "\n",
        "    # Iterate through the data\n",
        "    for (image, label) in test_loader:\n",
        "        if len(class_images[label]) < 5:\n",
        "            class_images[label].append((image, label))\n",
        "        if all(len(images) == 5 for images in class_images):\n",
        "            break  # Stop once we have 10 images per class\n",
        "\n",
        "    # flatten class_images\n",
        "    mini_test_dataset = []\n",
        "    for images in class_images:\n",
        "        mini_test_dataset.extend(images)\n",
        "    return mini_test_dataset\n",
        "\n",
        "# TA Uses the following code to evaluate your score\n",
        "def lab4_cifar100_evaluation(quantized_model_path='deits_quantized.pth'):\n",
        "    # Prepare data\n",
        "    mini_test_dataset = getMiniTestDataset()\n",
        "\n",
        "    # Load quantized model\n",
        "    quantized_ep = torch.export.load(quantized_model_path)\n",
        "    quantized_model = quantized_ep.module()\n",
        "\n",
        "    # Evaluate model\n",
        "    start_time = time.time()\n",
        "    acc = evaluate_model(quantized_model, mini_test_dataset, device=\"cpu\")\n",
        "    exec_time = time.time() - start_time\n",
        "    model_size = get_size_of_model(quantized_model)\n",
        "\n",
        "    print(f\"Model Size: {model_size:.2f} MB\")\n",
        "    print(f\"Accuracy: {acc:.2f}%\")\n",
        "    print(f\"Execution Time: {exec_time:.2f} s\")\n",
        "\n",
        "    score = 0\n",
        "    if model_size <= 30: score += 10\n",
        "    if model_size <= 27: score += 2 * math.floor(27-model_size)\n",
        "    if acc >= 86:\n",
        "      score += 10 + 2 * math.floor(acc-86)\n",
        "    print(f'Model Score: {score:.2f}')\n",
        "    return score"
      ]
    },
    {
      "cell_type": "markdown",
      "metadata": {
        "id": "GkZ8DKOfIoXd"
      },
      "source": [
        "## Part1: Simple Quantization Pipeline (0%)\n",
        "\n",
        "Below is a naive pipeline of quantizing DeiT-S. You may need to modify the pipeline or build your own later on."
      ]
    },
    {
      "cell_type": "markdown",
      "metadata": {
        "id": "Gbo8e-DgIoXd"
      },
      "source": [
        "[**use_reference_representation=False** in **convert_pt2e()** represents fake quant (matmul using fp32).](https://pytorch.org/tutorials/prototype/pt2e_quant_ptq_static.html#convert-the-calibrated-model-to-a-quantized-model)\n",
        "\n",
        "However when the variable is set to True, the execution speed becomes extremely slow.\n",
        "\n",
        "In this lab, it is just fine to set **use_reference_representation=False**."
      ]
    },
    {
      "cell_type": "code",
      "execution_count": 5,
      "metadata": {
        "id": "9CfbAo1PIoXe"
      },
      "outputs": [],
      "source": [
        "from torch.export import Dim\n",
        "from torch._export import capture_pre_autograd_graph\n",
        "\n",
        "def quantize_ptq_model(model: nn.Module, data_loader, per_channel=False) -> None:\n",
        "    # captuer model graph\n",
        "    _dummy_input_data = (next(iter(data_loader))[0],)\n",
        "    model.eval()\n",
        "    dynamic_shapes = {\"x\": {0: Dim(\"batch\")}} # to allow diffent batch size on training/inference\n",
        "    model = capture_pre_autograd_graph(model, _dummy_input_data, dynamic_shapes=dynamic_shapes)\n",
        "\n",
        "    # Init quantizer\n",
        "    quantizer = XNNPACKQuantizer()\n",
        "    quantization_config = get_symmetric_quantization_config(is_per_channel=per_channel, is_qat=False)\n",
        "    quantizer.set_global(quantization_config)\n",
        "\n",
        "    # Prepare model for quantization\n",
        "    model = prepare_pt2e(model, quantizer)\n",
        "\n",
        "    # Calibration\n",
        "    calibrate(model, data_loader)\n",
        "\n",
        "    # Convert model to quantized model\n",
        "    model = convert_pt2e(model, use_reference_representation=False)\n",
        "    return model"
      ]
    },
    {
      "cell_type": "code",
      "execution_count": 50,
      "metadata": {
        "id": "I_13WgBMIoXe"
      },
      "outputs": [
        {
          "name": "stdout",
          "output_type": "stream",
          "text": [
            "Files already downloaded and verified\n",
            "Files already downloaded and verified\n",
            "Files already downloaded and verified\n",
            "Files already downloaded and verified\n"
          ]
        }
      ],
      "source": [
        "# Load the model\n",
        "batch_size = 32 # Use batch size > 1 for faster PTQ and QAT.\n",
        "model = torch.load('0.9099_deit3_small_patch16_224.pth', map_location='cpu')\n",
        "train_loader, test_loader, nb_classes = prepare_data(batch_size)\n",
        "\n",
        "# We use only a porpotion of test dataset for evaluation, with batch size = 1 for inference.\n",
        "mini_test_dataset = getMiniTestDataset()"
      ]
    },
    {
      "cell_type": "code",
      "execution_count": 51,
      "metadata": {
        "id": "tgWygly60VDM"
      },
      "outputs": [
        {
          "name": "stderr",
          "output_type": "stream",
          "text": [
            "100%|██████████| 500/500 [00:01<00:00, 433.94it/s]\n"
          ]
        },
        {
          "name": "stdout",
          "output_type": "stream",
          "text": [
            "Accuracy of the model on the test images: 93.6%\n",
            "Size (MB) before quantization: 86.905654\n",
            "Accuracy of the model on the test images: 93.6%\n",
            "Quantizing model...\n",
            "Exporting model...\n",
            "Evaluating model...\n",
            "Files already downloaded and verified\n",
            "Files already downloaded and verified\n"
          ]
        },
        {
          "name": "stderr",
          "output_type": "stream",
          "text": [
            "100%|██████████| 500/500 [00:27<00:00, 18.50it/s]"
          ]
        },
        {
          "name": "stdout",
          "output_type": "stream",
          "text": [
            "Accuracy of the model on the test images: 83.8%\n",
            "Model Size: 21.94 MB\n",
            "Accuracy: 83.80%\n",
            "Execution Time: 27.03 s\n",
            "Model Score: 20.00\n"
          ]
        },
        {
          "name": "stderr",
          "output_type": "stream",
          "text": [
            "\n"
          ]
        },
        {
          "data": {
            "text/plain": [
              "20"
            ]
          },
          "execution_count": 51,
          "metadata": {},
          "output_type": "execute_result"
        }
      ],
      "source": [
        "# evaluate before quantization\n",
        "device = torch.device(\"cuda:0\" if torch.cuda.is_available() else \"cpu\")\n",
        "acc = evaluate_model(model, mini_test_dataset, device)\n",
        "print('Size (MB) before quantization:', get_size_of_model(model))\n",
        "print(f'Accuracy of the model on the test images: {acc}%') # 92.8%\n",
        "\n",
        "# quantize model\n",
        "print('Quantizing model...')\n",
        "model.cpu()\n",
        "prepared_model = quantize_ptq_model(model, train_loader, per_channel=False)\n",
        "torch.ao.quantization.move_exported_model_to_eval(prepared_model)\n",
        "\n",
        "print('Exporting model...')\n",
        "quantized_model_path = \"deits_quantized.pth\"\n",
        "\n",
        "prepared_model.cpu()\n",
        "cpu_example_inputs = (torch.randn([1, 3, 224, 224]), ) # batch_size should equal to 1 on inference.\n",
        "quantized_ep = torch.export.export(prepared_model, cpu_example_inputs)\n",
        "torch.export.save(quantized_ep, quantized_model_path)\n",
        "\n",
        "print('Evaluating model...')\n",
        "lab4_cifar100_evaluation(quantized_model_path) # 84.4%"
      ]
    },
    {
      "cell_type": "markdown",
      "metadata": {
        "id": "oV-fiMUcoO1I"
      },
      "source": [
        "# Below are some tools that may be useful in this lab:"
      ]
    },
    {
      "cell_type": "markdown",
      "metadata": {
        "id": "Ou1NYqlNIoXf"
      },
      "source": [
        "## Profiling Models\n",
        "\n",
        "The code below profiles your model, and generates a trace file for you to find out what is going on in your model throughout the execution.\n",
        "\n",
        "The generated trace file will be named *(test_trace_*.json)*, in the same directory as the notebook. To visualize, go to page [chrome://tracing](chrome://tracing) in either Chrome or Edge browser, then upload the trace file."
      ]
    },
    {
      "cell_type": "code",
      "execution_count": 6,
      "metadata": {
        "id": "ha79mAETIoXf"
      },
      "outputs": [],
      "source": [
        "# profile model\n",
        "from torch.profiler import profile, record_function, ProfilerActivity\n",
        "\n",
        "# ## Default way to use profiler\n",
        "# with profile(activities=[ProfilerActivity.CPU, ProfilerActivity.CUDA]) as prof:\n",
        "#     for _ in range(10):\n",
        "#         a = torch.square(torch.randn(10000, 10000).cuda())\n",
        "\n",
        "# prof.export_chrome_trace(\"trace.json\")\n",
        "\n",
        "def torch_profile(model, input_data, device):\n",
        "  ## With warmup and skip\n",
        "  # https://pytorch.org/docs/stable/profiler.html\n",
        "\n",
        "  # Non-default profiler schedule allows user to turn profiler on and off\n",
        "  # on different iterations of the training loop;\n",
        "  # trace_handler is called every time a new trace becomes available\n",
        "  def trace_handler(prof):\n",
        "    print(prof.key_averages().table(sort_by=\"self_cuda_time_total\", row_limit=-1))\n",
        "    prof.export_chrome_trace(\"./test_trace_\" + str(prof.step_num) + \".json\")\n",
        "\n",
        "  with torch.profiler.profile(\n",
        "    activities=[\n",
        "      torch.profiler.ProfilerActivity.CPU,\n",
        "      torch.profiler.ProfilerActivity.CUDA,\n",
        "    ],\n",
        "\n",
        "    # In this example with wait=1, warmup=1, active=2, repeat=1,\n",
        "    # profiler will skip the first step/iteration,\n",
        "    # start warming up on the second, record\n",
        "    # the third and the forth iterations,\n",
        "    # after which the trace will become available\n",
        "    # and on_trace_ready (when set) is called;\n",
        "    # the cycle repeats starting with the next step\n",
        "    schedule=torch.profiler.schedule(wait=1, warmup=1, active=2, repeat=1),\n",
        "    on_trace_ready=trace_handler\n",
        "    # on_trace_ready=torch.profiler.tensorboard_trace_handler('./log')\n",
        "    # used when outputting for tensorboard\n",
        "    ) as p:\n",
        "      for data in input_data:\n",
        "        model(data.to(device))\n",
        "        # send a signal to the profiler that the next iteration has started\n",
        "        p.step()"
      ]
    },
    {
      "cell_type": "code",
      "execution_count": null,
      "metadata": {
        "id": "VXTFSexrIoXf"
      },
      "outputs": [],
      "source": [
        "dummy_input_data = [next(iter(test_loader))[0] for _ in range(3)]\n",
        "device = torch.device(\"cpu\")\n",
        "\n",
        "# profile quantized model\n",
        "torch_profile(loaded_quantized_model, dummy_input_data, device)"
      ]
    },
    {
      "cell_type": "markdown",
      "metadata": {
        "id": "V_xk1sSXoqsJ"
      },
      "source": [
        "## To obtain specific model layers"
      ]
    },
    {
      "cell_type": "code",
      "execution_count": 7,
      "metadata": {
        "id": "E4BgPWyupMZ1"
      },
      "outputs": [],
      "source": [
        "def match_string(string, match_list, match_prefix=False, match_suffix=False):\n",
        "    if match_prefix:\n",
        "        return any(string.startswith(s) for s in match_list)\n",
        "    elif match_suffix:\n",
        "        return any(string.endswith(s) for s in match_list)\n",
        "    else:\n",
        "        return any(s == string for s in match_list)\n",
        "\n",
        "def get_model_layers(model, match_names=None, match_types=None, prefix=''):\n",
        "    matching_layers = []\n",
        "    for name, module in model.named_modules():\n",
        "        if match_names is None or match_string(name, match_names):\n",
        "            if match_types is None or match_string(type(module).__name__, match_types):\n",
        "                matching_layers.append((f'{prefix}{name}', module))\n",
        "    return matching_layers\n",
        "\n",
        "# layer_names = [f'blocks.0.attn.qkv', f'blocks.0.mlp.fc1', f'blocks.0.mlp.fc2']\n",
        "# block0_layers = get_model_layers(model, match_names=layer_names, match_types=['Linear'])\n",
        "\n",
        "# print(block0_layers)"
      ]
    },
    {
      "cell_type": "markdown",
      "metadata": {
        "id": "NO1-XuLJBkL2"
      },
      "source": [
        "## To capture the output of each layer\n"
      ]
    },
    {
      "cell_type": "code",
      "execution_count": 8,
      "metadata": {
        "id": "j8xEIdQvBsnQ"
      },
      "outputs": [],
      "source": [
        "class HookHandler:\n",
        "    def __init__(self):\n",
        "        self.handlers = []\n",
        "\n",
        "    def __del__(self):\n",
        "        self.remove_hooks()\n",
        "\n",
        "    def _generate_hook(self, apply_func, key, layer_data_dict: dict):\n",
        "        def hook_fn(model, input, output):\n",
        "            nonlocal layer_data_dict\n",
        "            layer_data_dict[key] = apply_func(\n",
        "                output, layer_data_dict.get(key, None))\n",
        "        return hook_fn\n",
        "\n",
        "    def _bind_hooks(self, apply_layers, apply_func, layer_data_dict: dict):\n",
        "        for name, module in apply_layers:\n",
        "            hook_fn = self._generate_hook(apply_func, name, layer_data_dict)\n",
        "            self.handlers.append(module.register_forward_hook(hook_fn))\n",
        "\n",
        "    def create_hooks(self, apply_layers, apply_func, layer_data_dict: dict):\n",
        "        self._bind_hooks(apply_layers, apply_func, layer_data_dict)\n",
        "\n",
        "    def remove_hooks(self):\n",
        "        for handle in self.handlers:\n",
        "            handle.remove()\n",
        "        self.handlers = []\n",
        "\n",
        "def absmax(data, axis=None):\n",
        "    p_data = data.max(axis=axis)\n",
        "    n_data = data.min(axis=axis)\n",
        "    return np.where(abs(p_data) > abs(n_data), p_data, n_data)\n",
        "\n",
        "def get_flat_act_func(new_val: torch.Tensor, _):\n",
        "    return new_val.cpu().detach().numpy().flatten()\n",
        "\n",
        "\n",
        "def get_act_func(new_val: torch.Tensor, _):\n",
        "    return new_val.cpu().detach().numpy()\n",
        "\n",
        "\n",
        "def get_avg_act_func(new_val: torch.Tensor, existing_val):\n",
        "    if existing_val is None:\n",
        "        total_cnt = new_val.shape[0]\n",
        "        avg = new_val.cpu().detach().numpy().sum(axis=0) / total_cnt\n",
        "\n",
        "    else:\n",
        "        total_cnt, avg = existing_val.get(\"total_cnt\"), existing_val.get(\"value\")\n",
        "        avg = (avg * total_cnt + new_val.cpu().detach().numpy().sum(axis=0)) / (total_cnt + new_val.shape[0])\n",
        "        total_cnt += new_val.shape[0]\n",
        "\n",
        "    return {\"total_cnt\": total_cnt, \"value\": avg}\n",
        "\n",
        "def get_absmax_act_func(new_val: torch.Tensor, existing_val):\n",
        "    new_absmax = absmax(new_val.cpu().detach().numpy(), axis=0)\n",
        "    if existing_val is None:\n",
        "        value = new_absmax\n",
        "    else:\n",
        "        value = absmax(np.stack([existing_val, new_absmax], axis=0), axis=0)\n",
        "    return value"
      ]
    },
    {
      "cell_type": "code",
      "execution_count": null,
      "metadata": {
        "id": "sGw7XZSVB5Xn"
      },
      "outputs": [],
      "source": [
        "# initialize HookHandler and the dictionary to store the outputs\n",
        "handler = HookHandler()\n",
        "layer_outputs = {}\n",
        "\n",
        "# get the layers you want to record\n",
        "layer_names = [f'blocks.0.attn.qkv', f'blocks.0.mlp.fc1', f'blocks.0.mlp.fc2']\n",
        "block0_layers = get_model_layers(model, match_names=layer_names, match_types=['Linear'])\n",
        "\n",
        "# create hooks for the layers (<layers>, <hook function>, <dictionary to store the outputs>)\n",
        "handler.create_hooks(block0_layers, get_act_func, layer_outputs)\n",
        "\n",
        "# calibrate the model and record the outputs\n",
        "with torch.autocast(device_type=\"cuda\"):\n",
        "    for i, (image, _) in enumerate(train_loader):\n",
        "        if i >= 128: break\n",
        "        model(image)\n",
        "\n",
        "# remove the hooks\n",
        "handler.remove_hooks()\n",
        "\n",
        "print(layer_outputs)"
      ]
    },
    {
      "cell_type": "markdown",
      "metadata": {
        "id": "bztBdOxJRKTD"
      },
      "source": [
        "## To ignore specific layers for quantization:\n",
        "([xnnpack source code](https://github.com/pytorch/pytorch/blob/main/torch/ao/quantization/quantizer/xnnpack_quantizer.py\\), also you can try messing around with the Observer classes)"
      ]
    },
    {
      "cell_type": "code",
      "execution_count": 9,
      "metadata": {
        "id": "kdAyjLwXQlya"
      },
      "outputs": [],
      "source": [
        "# Replace functions XNNPackQuantizer uses for annotation.\n",
        "\n",
        "def get_module_names(name):\n",
        "    names = name.split(\".\")\n",
        "    return [\".\".join(names[i:]) for i in reversed(range(len(names)))]\n",
        "\n",
        "def parse_string(name):\n",
        "    if name.startswith(\"L\"): return name[10:]\n",
        "    split_getattr = name.split(\")\")\n",
        "    ig_left = split_getattr[0].split(\"L['self'].\")[-1].split(\",\")[0]\n",
        "    ig_right = split_getattr[0].split(\", '\")[-1][:-1]\n",
        "    return ig_left + \".\" + str(ig_right) + split_getattr[1]\n",
        "\n",
        "def is_name_in_ignore_list(name, IGNORE_LIST):\n",
        "    return name in IGNORE_LIST\n",
        "\n",
        "def name_not_in_ignore_list(n, IGNORE_LIST) -> bool:\n",
        "    nn_module_stack = n.meta.get(\"nn_module_stack\", {})\n",
        "    names = [n for n, klass in nn_module_stack.values()]\n",
        "    if len(names) == 0:\n",
        "        return True\n",
        "\n",
        "    names = get_module_names(parse_string(names[-1]))\n",
        "    set1 = set(names)\n",
        "    set2 = set(IGNORE_LIST)\n",
        "    # if len(set1.intersection(set2)) == 0:\n",
        "    #     print(\"DEBUG: \", names)\n",
        "    return len(set1.intersection(set2)) == 0\n",
        "\n",
        "def get_module_name_filter(module_name: str, IGNORE_LIST):\n",
        "    def module_name_filter(n) -> bool:\n",
        "        nn_module_stack = n.meta.get(\"nn_module_stack\", {})\n",
        "        names = [n for n, klass in nn_module_stack.values()]\n",
        "        if len(names) == 0:\n",
        "            return False\n",
        "\n",
        "        names = get_module_names(parse_string(names[-1]))\n",
        "        return (module_name in names) and name_not_in_ignore_list(n, IGNORE_LIST)\n",
        "    return module_name_filter\n",
        "\n",
        "\n",
        "def get_module_type_filter(tp, IGNORE_LIST):\n",
        "    def module_type_filter(n) -> bool:\n",
        "        nn_module_stack = n.meta.get(\"nn_module_stack\", {})\n",
        "        types = [t for _, t in nn_module_stack.values()]\n",
        "        return (tp in types) and name_not_in_ignore_list(n, IGNORE_LIST)\n",
        "\n",
        "    return module_type_filter\n",
        "\n",
        "\n",
        "def get_not_module_type_or_name_filter(\n",
        "    tp_list, module_name_list, IGNORE_LIST\n",
        "):\n",
        "    module_type_filters = [get_module_type_filter(tp) for tp in tp_list]\n",
        "    module_name_list_filters = [get_module_name_filter(m) for m in module_name_list]\n",
        "\n",
        "    def not_module_type_or_name_filter(n) -> bool:\n",
        "        return not any(f(n) for f in module_type_filters + module_name_list_filters) and name_not_in_ignore_list(n, IGNORE_LIST)\n",
        "\n",
        "    return not_module_type_or_name_filter\n",
        "\n",
        "class PartialXNNPACKQuantizer(XNNPACKQuantizer): # skips quantizing layers inside the ignore_list\n",
        "    def __init__(self, ignore_list):\n",
        "        super().__init__()\n",
        "        self.ignore_list = ignore_list\n",
        "\n",
        "    def _annotate_for_static_quantization_config(\n",
        "        self, model: torch.fx.GraphModule\n",
        "    ) -> torch.fx.GraphModule:\n",
        "        print(\"annotating for static quantization\")\n",
        "        module_name_list = list(self.module_name_config.keys())\n",
        "        for module_name, config in self.module_name_config.items():\n",
        "            self._annotate_all_static_patterns(\n",
        "                model, config, get_module_name_filter(module_name, self.ignore_list)\n",
        "            )\n",
        "\n",
        "        tp_list = list(self.module_type_config.keys())\n",
        "        for module_type, config in self.module_type_config.items():\n",
        "            self._annotate_all_static_patterns(\n",
        "                model, config, get_module_type_filter(module_type, self.ignore_list)\n",
        "            )\n",
        "\n",
        "        self._annotate_all_static_patterns(\n",
        "            model,\n",
        "            self.global_config,\n",
        "            get_not_module_type_or_name_filter(tp_list, module_name_list, self.ignore_list),\n",
        "        )\n",
        "        return model\n",
        "\n",
        "    def _annotate_for_dynamic_quantization_config(\n",
        "        self, model: torch.fx.GraphModule\n",
        "    ) -> torch.fx.GraphModule:\n",
        "        print(\"annotating for dynamic quantization\")\n",
        "        module_name_list = list(self.module_name_config.keys())\n",
        "        for module_name, config in self.module_name_config.items():\n",
        "            self._annotate_all_dynamic_patterns(\n",
        "                model, config, get_module_name_filter(module_name, self.ignore_list)\n",
        "            )\n",
        "\n",
        "        tp_list = list(self.module_type_config.keys())\n",
        "        for module_type, config in self.module_type_config.items():\n",
        "            self._annotate_all_dynamic_patterns(\n",
        "                model, config, get_module_type_filter(module_type, self.ignore_list)\n",
        "            )\n",
        "\n",
        "        self._annotate_all_dynamic_patterns(\n",
        "            model,\n",
        "            self.global_config,\n",
        "            get_not_module_type_or_name_filter(tp_list, module_name_list, self.ignore_list),\n",
        "        )\n",
        "        return model\n",
        "\n",
        "# quantizer = XNNPACKQuantizer()\n",
        "# quantizer = PartialXNNPACKQuantizer(ignore_list=[\"head\"]) # replace XNNPACKQuantizer()"
      ]
    },
    {
      "cell_type": "markdown",
      "metadata": {},
      "source": [
        "# Analysis"
      ]
    },
    {
      "cell_type": "code",
      "execution_count": 10,
      "metadata": {},
      "outputs": [],
      "source": [
        "import copy\n",
        "import matplotlib.pyplot as plt\n",
        "from typing import Callable\n",
        "from timm.models import VisionTransformer\n",
        "from torch.export import ExportedProgram\n",
        "from torch.fx import GraphModule, Graph\n",
        "import torch.ao.quantization\n",
        "\n",
        "plt.style.use(\"tableau-colorblind10\")"
      ]
    },
    {
      "cell_type": "code",
      "execution_count": 11,
      "metadata": {},
      "outputs": [
        {
          "name": "stdout",
          "output_type": "stream",
          "text": [
            "Files already downloaded and verified\n",
            "Files already downloaded and verified\n"
          ]
        },
        {
          "data": {
            "text/plain": [
              "GraphModule()"
            ]
          },
          "execution_count": 11,
          "metadata": {},
          "output_type": "execute_result"
        }
      ],
      "source": [
        "batch_size = 32\n",
        "quantized_model_path = \"deits_quantized.pth\"\n",
        "\n",
        "train_loader, test_loader, nb_classes = prepare_data(batch_size)\n",
        "\n",
        "model: VisionTransformer = torch.load('0.9099_deit3_small_patch16_224.pth', map_location='cpu')\n",
        "quantized_ep: ExportedProgram = torch.export.load(quantized_model_path)\n",
        "prepared_model = quantized_ep.module()\n",
        "\n",
        "model.eval()\n",
        "model.requires_grad_(False)\n",
        "torch.ao.quantization.move_exported_model_to_eval(prepared_model)\n",
        "prepared_model.requires_grad_(False)"
      ]
    },
    {
      "cell_type": "code",
      "execution_count": 15,
      "metadata": {},
      "outputs": [],
      "source": [
        "def hist_of_weight_channels(name: str, tensor: torch.Tensor, n_subplot: int = 8) -> None:\n",
        "    tensor = tensor.detach().cpu()\n",
        "    n_channel = tensor.size(0)\n",
        "    plot_step = max(n_channel // n_subplot, 1)\n",
        "\n",
        "    f, axes = plt.subplots(1, n_subplot, figsize=(12, 1.2))\n",
        "    f.suptitle(name, fontsize=8)\n",
        "    for i, ch in enumerate(range(0, n_channel // n_subplot * n_subplot, plot_step)):\n",
        "        axes[i].tick_params(\"both\", labelsize=5)\n",
        "        axes[i].hist(tensor[ch].flatten(), 50)\n",
        "    \n",
        "    plt.plot()\n",
        "\n",
        "def hist_of_weight_values(name: str, tensor: torch.Tensor, ax, max_val: float | None = None) -> None:\n",
        "    tensor = tensor.detach().cpu().flatten()\n",
        "    bins = np.linspace(tensor.min().item() if max_val is None else -max_val, tensor.max().item() if max_val is None else max_val, 200)\n",
        "    ax.set_title(name, fontsize=6, y=1.0, pad=-7)\n",
        "    ax.tick_params(\"both\", labelsize=5)\n",
        "    ax.hist(tensor, bins, alpha=0.5, color=\"blue\")\n",
        "\n",
        "def hist_of_weight_abs_min_max(name: str, tensor: torch.Tensor, ax, max_val: float | None = None) -> None:\n",
        "    tensor = tensor.detach().flatten(1).cpu()\n",
        "    tensor_abs = tensor.abs()\n",
        "    ch_mins = tensor_abs.min(dim=-1).values\n",
        "    ch_maxs = tensor_abs.max(dim=-1).values\n",
        "    bins = np.linspace(0, ch_maxs.max().item() if max_val is None else max_val, 30)\n",
        "    ax.set_title(name, fontsize=6, y=1.0, pad=-7)\n",
        "    ax.tick_params(\"both\", labelsize=5)\n",
        "    ax.set_yscale(\"log\")\n",
        "    ax.hist(ch_mins, bins, alpha=0.5, color=\"red\", label=\"mins\")\n",
        "    ax.hist(ch_maxs, bins, alpha=0.5, color=\"blue\", label=\"maxs\")\n",
        "\n",
        "def boxplot_of_weight_channels(name: str, tensor: torch.Tensor, ax, step: int = 5) -> None:\n",
        "    tensor = tensor.detach().flatten(1).cpu()\n",
        "    n_channel = tensor.size(0)\n",
        "    data = torch.transpose(tensor[::step], 0, 1).numpy()\n",
        "    labels = [str(i) for i in range(n_channel)][::step]\n",
        "    ax.set_title(name, fontsize=6, y=1.0, pad=-7)\n",
        "    ax.tick_params(\"both\", labelsize=5)\n",
        "    ax.boxplot(data, labels=labels, showfliers=False)\n",
        "\n",
        "def visualize_model_weights(\n",
        "        model: nn.Module, filter_types: list[str] = [\"Linear\", \"Conv2d\"], figsize=(12, 12), n_col: int = 8, max_val: float | None = None,\n",
        "        op: Callable = hist_of_weight_values, kwargs={}\n",
        ") -> None:\n",
        "    params_to_plot = [\n",
        "        (name, mod.weight)\n",
        "        for name, mod in get_model_layers(model, match_types=filter_types)\n",
        "    ]\n",
        "    n_subplot = len(params_to_plot)\n",
        "    n_row = (n_subplot + n_col - 1) // n_col\n",
        "    f, axes = plt.subplots(n_row, n_col, figsize=figsize)\n",
        "    axes = axes.flatten() if isinstance(axes, np.ndarray) else axes\n",
        "    f.suptitle(f\"Channel min & max abs values of each weight\")\n",
        "    for i, (name, param) in enumerate(params_to_plot):\n",
        "        if max_val:\n",
        "            axes[i].set_xlim(0, max_val)\n",
        "        op(name, param, axes[i] if isinstance(axes, np.ndarray) else axes, **kwargs)\n",
        "    \n",
        "    plt.plot()\n",
        "\n",
        "def visualize_model_weights_by_params(\n",
        "        model: nn.Module, filter_names: list[str] = [\"weight\"], filter_not_names: list[str] = [\"norm\"],\n",
        "        figsize=(12, 12), n_col: int = 8, max_val: float | None = None,\n",
        "        op: Callable = hist_of_weight_values, kwargs={}\n",
        ") -> None:\n",
        "    params_to_plot = [\n",
        "        (name, param)\n",
        "        for name, param in model.named_parameters()\n",
        "        if any(filter_name in name for filter_name in filter_names)\n",
        "    ]\n",
        "    n_subplot = len(params_to_plot)\n",
        "    n_row = (n_subplot + n_col - 1) // n_col\n",
        "    f, axes = plt.subplots(n_row, n_col, figsize=figsize)\n",
        "    axes = axes.flatten() if isinstance(axes, np.ndarray) else axes\n",
        "    f.suptitle(f\"Channel min & max abs values of each weight\")\n",
        "    for i, (name, param) in enumerate(params_to_plot):\n",
        "        if max_val:\n",
        "            axes[i].set_xlim(0, max_val)\n",
        "        op(name, param, axes[i] if isinstance(axes, np.ndarray) else axes, **kwargs)\n",
        "    \n",
        "    plt.plot()"
      ]
    },
    {
      "cell_type": "code",
      "execution_count": 12,
      "metadata": {},
      "outputs": [],
      "source": [
        "def plot_activation_dist(\n",
        "        model: nn.Module, loader: DataLoader, n_col: int = 8, op: Callable = get_avg_act_func, max_num_batch: int | None = None,\n",
        "        is_max_range: bool = False, figsize: tuple[int, int] = (10, 10), device: torch.device = torch.device(\"cpu\")\n",
        ") -> None:\n",
        "    \n",
        "    def _extract_output(output) -> np.ndarray:\n",
        "        return output[\"value\"].flatten() if isinstance(output, dict) else output.flatten()\n",
        "\n",
        "    handler = HookHandler()\n",
        "    layers = get_model_layers(model, match_types=[\"Linear\", \"Conv2d\"])\n",
        "    layer_outputs = {}\n",
        "\n",
        "    handler.create_hooks(layers, op, layer_outputs)\n",
        "    model.to(device)\n",
        "    for i, (image, _) in enumerate(tqdm(loader)):\n",
        "        if max_num_batch and i >= max_num_batch: break\n",
        "        model(image.to(device))\n",
        "    handler.remove_hooks()\n",
        "\n",
        "    max_val = None\n",
        "    if is_max_range:\n",
        "        max_val = -float(\"inf\")\n",
        "        for output in layer_outputs.values():\n",
        "            _max = _extract_output(output).max()\n",
        "            if _max > max_val:\n",
        "                max_val = _max\n",
        "\n",
        "    n_mod = len(layers)\n",
        "    n_row = (n_mod + n_col - 1) // n_col\n",
        "    f, axes = plt.subplots(n_row, n_col, figsize=figsize)\n",
        "    axes = axes.flatten() if isinstance(axes, np.ndarray) else axes\n",
        "    for i, (name, output) in enumerate(layer_outputs.items()):\n",
        "        output = _extract_output(output)\n",
        "        bins = np.linspace(output.min() if max_val is None else -max_val, output.max() if max_val is None else max_val, 30)\n",
        "        axes[i].set_title(name, fontsize=6, y=1.0, pad=-7)\n",
        "        axes[i].tick_params(\"both\", labelsize=5)\n",
        "        axes[i].hist(output, bins, color=\"tab:green\")\n"
      ]
    },
    {
      "cell_type": "code",
      "execution_count": 13,
      "metadata": {},
      "outputs": [],
      "source": [
        "def plot_weights_sym_quant_diff(\n",
        "        model: nn.Module, qmax: int = 127, diff_mode: str = \"fro\", quant_mode: str = \"per_tensor\", model_mode: str = \"deit\",\n",
        "        max_val: float | None = None, figsize: tuple[int, int] = (8, 10)\n",
        ") -> None:\n",
        "\n",
        "    def _per_tensor_sym_quant(param: torch.Tensor, qmax: int) -> tuple[torch.Tensor, torch.Tensor]:\n",
        "        fmax = param.float().abs().max()\n",
        "        scale = fmax / float(qmax)\n",
        "        quant_param = torch.clamp(torch.round(param / scale), -qmax, qmax)\n",
        "        recon_param = quant_param * scale\n",
        "        return quant_param, recon_param\n",
        "    \n",
        "    def _per_channel_sym_quant(param: torch.Tensor, qmax: int) -> tuple[torch.Tensor, torch.Tensor]:\n",
        "        fmax = param.flatten(1).abs().max(dim=1, keepdim=True).values\n",
        "        scale = fmax / float(qmax)\n",
        "        for _ in range(param.dim() - scale.dim()):\n",
        "            scale.unsqueeze_(-1)\n",
        "\n",
        "        quant_param = torch.clamp(torch.round(param / scale), -qmax, qmax)\n",
        "        recon_param = quant_param * scale\n",
        "        return quant_param, recon_param\n",
        "\n",
        "    def _get_diff(before: torch.Tensor, after: torch.Tensor, mode: str) -> float | torch.Tensor:\n",
        "        if mode == \"fro\":\n",
        "            return torch.norm(before - after).item()\n",
        "        elif mode ==\"avg\":\n",
        "            return torch.abs(before - after).mean().item()\n",
        "        elif mode ==\"max\":\n",
        "            return torch.abs(before - after).max().item()\n",
        "        elif mode == \"dots\":\n",
        "            return torch.abs(before - after).flatten()\n",
        "\n",
        "    def _get_color(name: str, model_mode: str) -> str:\n",
        "        if model_mode == \"deit\":\n",
        "            if \"mlp\"         in name: return \"tab:blue\"\n",
        "            if \"attn\"        in name: return \"tab:red\"\n",
        "            if \"head\"        in name: return \"tab:green\"\n",
        "            if \"norm\"        in name: return \"tab:purple\"\n",
        "            if \"patch_embed\" in name: return \"tab:orange\"\n",
        "            return                           \"black\"\n",
        "        elif model_mode == \"mobilenet\":\n",
        "            if \"classifier\"  in name: return \"tab:red\"\n",
        "            return                           \"tab:blue\"\n",
        "    \n",
        "    def _get_label(name: str, model_mode: str, is_label_used: set[str]) -> str:\n",
        "        if model_mode == \"deit\":\n",
        "            if   \"mlp\"         in name: label = \"mlp\"\n",
        "            elif \"attn\"        in name: label = \"attn\"\n",
        "            elif \"head\"        in name: label = \"head\"\n",
        "            elif \"norm\"        in name: label = \"norm\"\n",
        "            elif \"patch_embed\" in name: label = \"patch_embed\"\n",
        "            else:                       label = \"other\"\n",
        "        elif model_mode == \"mobilenet\":\n",
        "            if   \"classifier\"  in name: label = \"classifier\"\n",
        "            else:                       label = \"conv & norm\"\n",
        "        \n",
        "        if label in is_label_used:\n",
        "            return \"_\" + label\n",
        "        \n",
        "        is_label_used.add(label)\n",
        "        return label\n",
        "\n",
        "    diff_map, is_label_used = [[], [], [], []], set()\n",
        "    for name, param in model.named_parameters():\n",
        "        if \"weight\" not in name:\n",
        "            continue\n",
        "        if quant_mode == \"per_tensor\":\n",
        "            quant_param, recon_param = _per_tensor_sym_quant(param, qmax)\n",
        "        elif quant_mode == \"per_channel\":\n",
        "            quant_param, recon_param = _per_channel_sym_quant(param, qmax)\n",
        "\n",
        "        diff_map[0].append(name)\n",
        "        diff_map[1].append(_get_diff(param, recon_param, diff_mode))\n",
        "        diff_map[2].append(_get_color(name, model_mode))\n",
        "        diff_map[3].append(_get_label(name, model_mode, is_label_used))\n",
        "    \n",
        "    plt.figure(figsize=figsize)\n",
        "    plt.title(f\"Dequantization Difference\")\n",
        "    if max_val: plt.xlim(0, max_val)\n",
        "    if diff_mode == \"dots\":\n",
        "        plt.boxplot(diff_map[1], labels=diff_map[0], vert=False, flierprops=dict(markersize=1, markeredgecolor=\"green\"))\n",
        "    else:\n",
        "        plt.barh(diff_map[0], diff_map[1], 0.9, color=diff_map[2], label=diff_map[3])\n",
        "\n",
        "    plt.tick_params(\"both\", labelsize=6)\n",
        "    plt.legend()\n",
        "    plt.plot()"
      ]
    },
    {
      "cell_type": "markdown",
      "metadata": {},
      "source": [
        "## A visual analysis of the weight/activation parameters of the model. (20%)"
      ]
    },
    {
      "cell_type": "markdown",
      "metadata": {},
      "source": [
        "### Weight:"
      ]
    },
    {
      "cell_type": "code",
      "execution_count": 113,
      "metadata": {},
      "outputs": [
        {
          "data": {
            "image/png": "[encoded data removed]",
            "text/plain": [
              "<Figure size 1200x1200 with 56 Axes>"
            ]
          },
          "metadata": {},
          "output_type": "display_data"
        }
      ],
      "source": [
        "visualize_model_weights(model)"
      ]
    },
    {
      "cell_type": "markdown",
      "metadata": {},
      "source": [
        "### Activation:"
      ]
    },
    {
      "cell_type": "code",
      "execution_count": 46,
      "metadata": {},
      "outputs": [
        {
          "name": "stderr",
          "output_type": "stream",
          "text": [
            "100%|██████████| 781/781 [13:45<00:00,  1.06s/it]\n"
          ]
        },
        {
          "data": {
            "image/png": "[encoded data removed]",
            "text/plain": [
              "<Figure size 1000x1000 with 56 Axes>"
            ]
          },
          "metadata": {},
          "output_type": "display_data"
        }
      ],
      "source": [
        "plot_activation_dist(model, train_loader, device=\"cuda\")\n",
        "model = model.to(\"cpu\")"
      ]
    },
    {
      "cell_type": "markdown",
      "metadata": {},
      "source": [
        "## Identify the specific layers or components that quantization impacts the most. (10%)\n",
        "\n",
        "從以下 symmetric quantization & dequantization 誤差分析圖可以看出，在 mlp 中的 fc2 是被 quantization 影響最大的 compoments。"
      ]
    },
    {
      "cell_type": "code",
      "execution_count": 101,
      "metadata": {},
      "outputs": [
        {
          "data": {
            "image/png": "[encoded data removed]",
            "text/plain": [
              "<Figure size 800x1000 with 1 Axes>"
            ]
          },
          "metadata": {},
          "output_type": "display_data"
        }
      ],
      "source": [
        "plot_weights_sym_quant_diff(model, model_mode=\"deit\", max_val=2.5)"
      ]
    },
    {
      "cell_type": "markdown",
      "metadata": {},
      "source": [
        "## Explain why DeiT-S is harder to quantize than MobileNet. Use relevant charts or graphs to support your findings. (10%)\n",
        "\n",
        "從下圖可看出，MoblieNet 的 weights 在經過 symmetric quantization & dequantization 後的誤差比 DeiT-S 小，因此 MobileNet 會比 DeiT-S 來得容易 quantization。"
      ]
    },
    {
      "cell_type": "code",
      "execution_count": 88,
      "metadata": {},
      "outputs": [],
      "source": [
        "mobilenet = torch.load(\"mobilenetv2_0.963.pth\", map_location=\"cpu\")"
      ]
    },
    {
      "cell_type": "code",
      "execution_count": 89,
      "metadata": {},
      "outputs": [
        {
          "data": {
            "image/png": "[encoded data removed]",
            "text/plain": [
              "<Figure size 800x1000 with 1 Axes>"
            ]
          },
          "metadata": {},
          "output_type": "display_data"
        }
      ],
      "source": [
        "plot_weights_sym_quant_diff(mobilenet, model_mode=\"mobilenet\", max_val=2.5)"
      ]
    },
    {
      "cell_type": "markdown",
      "metadata": {},
      "source": [
        "## Suggestions for improving quantization on DeiT-S. (5%)\n",
        "\n",
        "從 quantization 誤差圖來看應該要讓 mlp.fc2 不做 quantization，但是因為 mlp.fc2 參數量很大，mlp.fc2 不做 quantization 會讓 model size 變太大。因此在折衷 model size 與 quantization 誤差後，決定讓參數量較少的 layer normalization 不做 quantization。"
      ]
    },
    {
      "cell_type": "markdown",
      "metadata": {},
      "source": [
        "## Explain what you have done in your quantization pipeline to enhance model performance.(15%)\n",
        "\n",
        "1. 將 layer normalization 從 quantization 的目標中剔除。\n",
        "2. 使用 per-tensor 版本的 SmoothQuant 調整模型權重範圍。\n",
        "3. 使用 QAT 微調模型，並且 weights 與 activations 採用 FusedMovingAvgObsFakeQuantize 來做最大最小值的統計。\n",
        "4. 訓練 30 epochs 並以 lr = 1e-4 訓練，在第 5 epoch 時停止更新 weight & activation 的最大最小值，在第 20 epoch 時 lr *= 0.1。\n",
        "5. 清除 optimizer & scheduler states，再以 lr = 1e-5 繼續訓練 30 epochs。"
      ]
    },
    {
      "cell_type": "markdown",
      "metadata": {},
      "source": [
        "# Quantizing DeiT-S"
      ]
    },
    {
      "cell_type": "markdown",
      "metadata": {},
      "source": [
        "## 沒使用 SmoothQuant (per-tensor 版本): Accuracy 最高 91.2%"
      ]
    },
    {
      "cell_type": "code",
      "execution_count": 54,
      "metadata": {},
      "outputs": [],
      "source": [
        "def prepare_quant_model(model: nn.Module, batch_size: int, ignore_list: list[str] = [], is_qat: bool = True):\n",
        "    quantizer = PartialXNNPACKQuantizer(ignore_list) if ignore_list else XNNPACKQuantizer()\n",
        "    quantizer.set_global(get_symmetric_quantization_config(is_qat=is_qat))\n",
        "    prepared_model = capture_pre_autograd_graph(model, (torch.rand(batch_size, 3, 224, 224),), dynamic_shapes={\"x\": {0: Dim(\"batch\")}})\n",
        "    prepared_model = prepare_qat_pt2e(prepared_model, quantizer) if is_qat else prepare_pt2e(prepared_model, quantizer)\n",
        "    return prepared_model\n",
        "\n",
        "def train_qat(\n",
        "    prepared_model: GraphModule,\n",
        "    lr: float = 1e-4,\n",
        "    n_epochs: int = 30,\n",
        "    n_epochs_between_evals: int = 1,\n",
        "    n_observer_update_epochs: int = 5,\n",
        "    n_large_lr_epochs: int = 20,\n",
        "    device: torch.device = torch.device(\"cuda:0\" if torch.cuda.is_available() else \"cpu\")\n",
        ") -> None:\n",
        "    os.makedirs(\"./model\", exist_ok=True)\n",
        "    os.makedirs(\"./save\", exist_ok=True)\n",
        "    \n",
        "    prepared_model.to(device)\n",
        "    prepared_model.requires_grad_()\n",
        "\n",
        "    criterion = nn.CrossEntropyLoss()\n",
        "    optimizer = torch.optim.AdamW(prepared_model.parameters(), lr)\n",
        "    scheduler = torch.optim.lr_scheduler.MultiStepLR(optimizer, [n_large_lr_epochs], 0.1)\n",
        "\n",
        "    for epoch in range(1, n_epochs + 1):\n",
        "        print(\"-\" * 50 + f\"\\nEpoch {epoch}: (lr = {optimizer.param_groups[0]['lr']})\")\n",
        "        assert prepared_model.training, \"Model is not training.\"\n",
        "        train_one_epoch(prepared_model, criterion, optimizer, train_loader, device)\n",
        "        if epoch > n_observer_update_epochs:\n",
        "            print(f\"Disabling observer for subseq epochs ... ({epoch=})\")\n",
        "            prepared_model.apply(torch.ao.quantization.disable_observer)\n",
        "        if epoch % n_epochs_between_evals == 0:\n",
        "            print(f\"Saving and Scoring ... ({epoch=})\")\n",
        "            prepared_model_copy = copy.deepcopy(prepared_model)\n",
        "            torch.ao.quantization.move_exported_model_to_eval(prepared_model_copy)\n",
        "            save_file = f\"./model/qunatized_DeiT-S_{epoch=}.pth\"\n",
        "            quantized_ep = torch.export.export(convert_pt2e(prepared_model_copy).cpu(), (torch.rand(1, 3, 224, 224),))\n",
        "            torch.export.save(quantized_ep, save_file)\n",
        "            torch.save(prepared_model_copy.state_dict(), f\"./save/prepared_model__{epoch=}.pth\")\n",
        "            lab4_cifar100_evaluation(save_file)\n",
        "        \n",
        "        scheduler.step()"
      ]
    },
    {
      "cell_type": "code",
      "execution_count": 56,
      "metadata": {},
      "outputs": [
        {
          "name": "stdout",
          "output_type": "stream",
          "text": [
            "Files already downloaded and verified\n",
            "Files already downloaded and verified\n",
            "annotating for static quantization\n"
          ]
        }
      ],
      "source": [
        "batch_size = 128\n",
        "ignore_list = [\"norm\"]\n",
        "\n",
        "train_loader, test_loader, nb_classes = prepare_data(batch_size)\n",
        "\n",
        "model: VisionTransformer = torch.load('0.9099_deit3_small_patch16_224.pth', map_location='cpu')\n",
        "\n",
        "prepared_model = prepare_quant_model(model, batch_size, ignore_list)"
      ]
    },
    {
      "cell_type": "code",
      "execution_count": 57,
      "metadata": {},
      "outputs": [
        {
          "name": "stdout",
          "output_type": "stream",
          "text": [
            "--------------------------------------------------\n",
            "Epoch 1: (lr = 0.0001)\n"
          ]
        },
        {
          "name": "stderr",
          "output_type": "stream",
          "text": [
            "100%|██████████| 390/390 [02:18<00:00,  2.81it/s]\n"
          ]
        },
        {
          "name": "stdout",
          "output_type": "stream",
          "text": [
            "Saving and Scoring ... (epoch=1)\n",
            "Files already downloaded and verified\n",
            "Files already downloaded and verified\n"
          ]
        },
        {
          "name": "stderr",
          "output_type": "stream",
          "text": [
            "100%|██████████| 500/500 [00:27<00:00, 17.90it/s]\n"
          ]
        },
        {
          "name": "stdout",
          "output_type": "stream",
          "text": [
            "Accuracy of the model on the test images: 87.4%\n",
            "Model Size: 21.94 MB\n",
            "Accuracy: 87.40%\n",
            "Execution Time: 27.94 s\n",
            "Model Score: 32.00\n",
            "--------------------------------------------------\n",
            "Epoch 2: (lr = 0.0001)\n"
          ]
        },
        {
          "name": "stderr",
          "output_type": "stream",
          "text": [
            "100%|██████████| 390/390 [02:19<00:00,  2.80it/s]\n"
          ]
        },
        {
          "name": "stdout",
          "output_type": "stream",
          "text": [
            "Saving and Scoring ... (epoch=2)\n",
            "Files already downloaded and verified\n",
            "Files already downloaded and verified\n"
          ]
        },
        {
          "name": "stderr",
          "output_type": "stream",
          "text": [
            "100%|██████████| 500/500 [00:27<00:00, 18.23it/s]\n"
          ]
        },
        {
          "name": "stdout",
          "output_type": "stream",
          "text": [
            "Accuracy of the model on the test images: 89.8%\n",
            "Model Size: 21.94 MB\n",
            "Accuracy: 89.80%\n",
            "Execution Time: 27.43 s\n",
            "Model Score: 36.00\n",
            "--------------------------------------------------\n",
            "Epoch 3: (lr = 0.0001)\n"
          ]
        },
        {
          "name": "stderr",
          "output_type": "stream",
          "text": [
            "100%|██████████| 390/390 [02:19<00:00,  2.80it/s]\n"
          ]
        },
        {
          "name": "stdout",
          "output_type": "stream",
          "text": [
            "Saving and Scoring ... (epoch=3)\n",
            "Files already downloaded and verified\n",
            "Files already downloaded and verified\n"
          ]
        },
        {
          "name": "stderr",
          "output_type": "stream",
          "text": [
            "100%|██████████| 500/500 [00:27<00:00, 18.09it/s]\n"
          ]
        },
        {
          "name": "stdout",
          "output_type": "stream",
          "text": [
            "Accuracy of the model on the test images: 88.4%\n",
            "Model Size: 21.94 MB\n",
            "Accuracy: 88.40%\n",
            "Execution Time: 27.64 s\n",
            "Model Score: 34.00\n",
            "--------------------------------------------------\n",
            "Epoch 4: (lr = 0.0001)\n"
          ]
        },
        {
          "name": "stderr",
          "output_type": "stream",
          "text": [
            "100%|██████████| 390/390 [02:19<00:00,  2.80it/s]\n"
          ]
        },
        {
          "name": "stdout",
          "output_type": "stream",
          "text": [
            "Saving and Scoring ... (epoch=4)\n",
            "Files already downloaded and verified\n",
            "Files already downloaded and verified\n"
          ]
        },
        {
          "name": "stderr",
          "output_type": "stream",
          "text": [
            "100%|██████████| 500/500 [00:27<00:00, 18.16it/s]\n"
          ]
        },
        {
          "name": "stdout",
          "output_type": "stream",
          "text": [
            "Accuracy of the model on the test images: 89.0%\n",
            "Model Size: 21.94 MB\n",
            "Accuracy: 89.00%\n",
            "Execution Time: 27.54 s\n",
            "Model Score: 36.00\n",
            "--------------------------------------------------\n",
            "Epoch 5: (lr = 0.0001)\n"
          ]
        },
        {
          "name": "stderr",
          "output_type": "stream",
          "text": [
            "100%|██████████| 390/390 [02:19<00:00,  2.80it/s]\n"
          ]
        },
        {
          "name": "stdout",
          "output_type": "stream",
          "text": [
            "Saving and Scoring ... (epoch=5)\n",
            "Files already downloaded and verified\n",
            "Files already downloaded and verified\n"
          ]
        },
        {
          "name": "stderr",
          "output_type": "stream",
          "text": [
            "100%|██████████| 500/500 [00:27<00:00, 18.11it/s]\n"
          ]
        },
        {
          "name": "stdout",
          "output_type": "stream",
          "text": [
            "Accuracy of the model on the test images: 90.0%\n",
            "Model Size: 21.94 MB\n",
            "Accuracy: 90.00%\n",
            "Execution Time: 27.62 s\n",
            "Model Score: 38.00\n",
            "--------------------------------------------------\n",
            "Epoch 6: (lr = 0.0001)\n"
          ]
        },
        {
          "name": "stderr",
          "output_type": "stream",
          "text": [
            "100%|██████████| 390/390 [02:19<00:00,  2.81it/s]\n"
          ]
        },
        {
          "name": "stdout",
          "output_type": "stream",
          "text": [
            "Disabling observer for subseq epochs ... (epoch=6)\n",
            "Saving and Scoring ... (epoch=6)\n",
            "Files already downloaded and verified\n",
            "Files already downloaded and verified\n"
          ]
        },
        {
          "name": "stderr",
          "output_type": "stream",
          "text": [
            "100%|██████████| 500/500 [00:27<00:00, 18.14it/s]\n"
          ]
        },
        {
          "name": "stdout",
          "output_type": "stream",
          "text": [
            "Accuracy of the model on the test images: 89.2%\n",
            "Model Size: 21.94 MB\n",
            "Accuracy: 89.20%\n",
            "Execution Time: 27.57 s\n",
            "Model Score: 36.00\n",
            "--------------------------------------------------\n",
            "Epoch 7: (lr = 0.0001)\n"
          ]
        },
        {
          "name": "stderr",
          "output_type": "stream",
          "text": [
            "100%|██████████| 390/390 [02:19<00:00,  2.81it/s]\n"
          ]
        },
        {
          "name": "stdout",
          "output_type": "stream",
          "text": [
            "Disabling observer for subseq epochs ... (epoch=7)\n",
            "Saving and Scoring ... (epoch=7)\n",
            "Files already downloaded and verified\n",
            "Files already downloaded and verified\n"
          ]
        },
        {
          "name": "stderr",
          "output_type": "stream",
          "text": [
            "100%|██████████| 500/500 [00:27<00:00, 18.11it/s]\n"
          ]
        },
        {
          "name": "stdout",
          "output_type": "stream",
          "text": [
            "Accuracy of the model on the test images: 89.0%\n",
            "Model Size: 21.94 MB\n",
            "Accuracy: 89.00%\n",
            "Execution Time: 27.61 s\n",
            "Model Score: 36.00\n",
            "--------------------------------------------------\n",
            "Epoch 8: (lr = 0.0001)\n"
          ]
        },
        {
          "name": "stderr",
          "output_type": "stream",
          "text": [
            "100%|██████████| 390/390 [02:19<00:00,  2.80it/s]\n"
          ]
        },
        {
          "name": "stdout",
          "output_type": "stream",
          "text": [
            "Disabling observer for subseq epochs ... (epoch=8)\n",
            "Saving and Scoring ... (epoch=8)\n",
            "Files already downloaded and verified\n",
            "Files already downloaded and verified\n"
          ]
        },
        {
          "name": "stderr",
          "output_type": "stream",
          "text": [
            "100%|██████████| 500/500 [00:27<00:00, 17.94it/s]\n"
          ]
        },
        {
          "name": "stdout",
          "output_type": "stream",
          "text": [
            "Accuracy of the model on the test images: 88.8%\n",
            "Model Size: 21.94 MB\n",
            "Accuracy: 88.80%\n",
            "Execution Time: 27.87 s\n",
            "Model Score: 34.00\n",
            "--------------------------------------------------\n",
            "Epoch 9: (lr = 0.0001)\n"
          ]
        },
        {
          "name": "stderr",
          "output_type": "stream",
          "text": [
            "100%|██████████| 390/390 [02:19<00:00,  2.80it/s]\n"
          ]
        },
        {
          "name": "stdout",
          "output_type": "stream",
          "text": [
            "Disabling observer for subseq epochs ... (epoch=9)\n",
            "Saving and Scoring ... (epoch=9)\n",
            "Files already downloaded and verified\n",
            "Files already downloaded and verified\n"
          ]
        },
        {
          "name": "stderr",
          "output_type": "stream",
          "text": [
            "100%|██████████| 500/500 [00:27<00:00, 18.09it/s]\n"
          ]
        },
        {
          "name": "stdout",
          "output_type": "stream",
          "text": [
            "Accuracy of the model on the test images: 89.0%\n",
            "Model Size: 21.94 MB\n",
            "Accuracy: 89.00%\n",
            "Execution Time: 27.63 s\n",
            "Model Score: 36.00\n",
            "--------------------------------------------------\n",
            "Epoch 10: (lr = 0.0001)\n"
          ]
        },
        {
          "name": "stderr",
          "output_type": "stream",
          "text": [
            "100%|██████████| 390/390 [02:19<00:00,  2.80it/s]\n"
          ]
        },
        {
          "name": "stdout",
          "output_type": "stream",
          "text": [
            "Disabling observer for subseq epochs ... (epoch=10)\n",
            "Saving and Scoring ... (epoch=10)\n",
            "Files already downloaded and verified\n",
            "Files already downloaded and verified\n"
          ]
        },
        {
          "name": "stderr",
          "output_type": "stream",
          "text": [
            "100%|██████████| 500/500 [00:27<00:00, 18.10it/s]\n"
          ]
        },
        {
          "name": "stdout",
          "output_type": "stream",
          "text": [
            "Accuracy of the model on the test images: 86.8%\n",
            "Model Size: 21.94 MB\n",
            "Accuracy: 86.80%\n",
            "Execution Time: 27.62 s\n",
            "Model Score: 30.00\n",
            "--------------------------------------------------\n",
            "Epoch 11: (lr = 0.0001)\n"
          ]
        },
        {
          "name": "stderr",
          "output_type": "stream",
          "text": [
            "100%|██████████| 390/390 [02:19<00:00,  2.80it/s]\n"
          ]
        },
        {
          "name": "stdout",
          "output_type": "stream",
          "text": [
            "Disabling observer for subseq epochs ... (epoch=11)\n",
            "Saving and Scoring ... (epoch=11)\n",
            "Files already downloaded and verified\n",
            "Files already downloaded and verified\n"
          ]
        },
        {
          "name": "stderr",
          "output_type": "stream",
          "text": [
            "100%|██████████| 500/500 [00:27<00:00, 18.16it/s]\n"
          ]
        },
        {
          "name": "stdout",
          "output_type": "stream",
          "text": [
            "Accuracy of the model on the test images: 89.4%\n",
            "Model Size: 21.94 MB\n",
            "Accuracy: 89.40%\n",
            "Execution Time: 27.53 s\n",
            "Model Score: 36.00\n",
            "--------------------------------------------------\n",
            "Epoch 12: (lr = 0.0001)\n"
          ]
        },
        {
          "name": "stderr",
          "output_type": "stream",
          "text": [
            "100%|██████████| 390/390 [02:18<00:00,  2.81it/s]\n"
          ]
        },
        {
          "name": "stdout",
          "output_type": "stream",
          "text": [
            "Disabling observer for subseq epochs ... (epoch=12)\n",
            "Saving and Scoring ... (epoch=12)\n",
            "Files already downloaded and verified\n",
            "Files already downloaded and verified\n"
          ]
        },
        {
          "name": "stderr",
          "output_type": "stream",
          "text": [
            "100%|██████████| 500/500 [00:27<00:00, 17.87it/s]\n"
          ]
        },
        {
          "name": "stdout",
          "output_type": "stream",
          "text": [
            "Accuracy of the model on the test images: 88.8%\n",
            "Model Size: 21.94 MB\n",
            "Accuracy: 88.80%\n",
            "Execution Time: 27.99 s\n",
            "Model Score: 34.00\n",
            "--------------------------------------------------\n",
            "Epoch 13: (lr = 0.0001)\n"
          ]
        },
        {
          "name": "stderr",
          "output_type": "stream",
          "text": [
            "100%|██████████| 390/390 [02:19<00:00,  2.80it/s]\n"
          ]
        },
        {
          "name": "stdout",
          "output_type": "stream",
          "text": [
            "Disabling observer for subseq epochs ... (epoch=13)\n",
            "Saving and Scoring ... (epoch=13)\n",
            "Files already downloaded and verified\n",
            "Files already downloaded and verified\n"
          ]
        },
        {
          "name": "stderr",
          "output_type": "stream",
          "text": [
            "100%|██████████| 500/500 [00:27<00:00, 18.07it/s]\n"
          ]
        },
        {
          "name": "stdout",
          "output_type": "stream",
          "text": [
            "Accuracy of the model on the test images: 87.8%\n",
            "Model Size: 21.94 MB\n",
            "Accuracy: 87.80%\n",
            "Execution Time: 27.66 s\n",
            "Model Score: 32.00\n",
            "--------------------------------------------------\n",
            "Epoch 14: (lr = 0.0001)\n"
          ]
        },
        {
          "name": "stderr",
          "output_type": "stream",
          "text": [
            "100%|██████████| 390/390 [02:19<00:00,  2.81it/s]\n"
          ]
        },
        {
          "name": "stdout",
          "output_type": "stream",
          "text": [
            "Disabling observer for subseq epochs ... (epoch=14)\n",
            "Saving and Scoring ... (epoch=14)\n",
            "Files already downloaded and verified\n",
            "Files already downloaded and verified\n"
          ]
        },
        {
          "name": "stderr",
          "output_type": "stream",
          "text": [
            "100%|██████████| 500/500 [00:27<00:00, 18.16it/s]\n"
          ]
        },
        {
          "name": "stdout",
          "output_type": "stream",
          "text": [
            "Accuracy of the model on the test images: 89.2%\n",
            "Model Size: 21.94 MB\n",
            "Accuracy: 89.20%\n",
            "Execution Time: 27.54 s\n",
            "Model Score: 36.00\n",
            "--------------------------------------------------\n",
            "Epoch 15: (lr = 0.0001)\n"
          ]
        },
        {
          "name": "stderr",
          "output_type": "stream",
          "text": [
            "100%|██████████| 390/390 [02:19<00:00,  2.80it/s]\n"
          ]
        },
        {
          "name": "stdout",
          "output_type": "stream",
          "text": [
            "Disabling observer for subseq epochs ... (epoch=15)\n",
            "Saving and Scoring ... (epoch=15)\n",
            "Files already downloaded and verified\n",
            "Files already downloaded and verified\n"
          ]
        },
        {
          "name": "stderr",
          "output_type": "stream",
          "text": [
            "100%|██████████| 500/500 [00:27<00:00, 17.97it/s]\n"
          ]
        },
        {
          "name": "stdout",
          "output_type": "stream",
          "text": [
            "Accuracy of the model on the test images: 87.4%\n",
            "Model Size: 21.94 MB\n",
            "Accuracy: 87.40%\n",
            "Execution Time: 27.82 s\n",
            "Model Score: 32.00\n",
            "--------------------------------------------------\n",
            "Epoch 16: (lr = 0.0001)\n"
          ]
        },
        {
          "name": "stderr",
          "output_type": "stream",
          "text": [
            "100%|██████████| 390/390 [02:18<00:00,  2.81it/s]\n"
          ]
        },
        {
          "name": "stdout",
          "output_type": "stream",
          "text": [
            "Disabling observer for subseq epochs ... (epoch=16)\n",
            "Saving and Scoring ... (epoch=16)\n",
            "Files already downloaded and verified\n",
            "Files already downloaded and verified\n"
          ]
        },
        {
          "name": "stderr",
          "output_type": "stream",
          "text": [
            "100%|██████████| 500/500 [00:27<00:00, 18.15it/s]\n"
          ]
        },
        {
          "name": "stdout",
          "output_type": "stream",
          "text": [
            "Accuracy of the model on the test images: 88.8%\n",
            "Model Size: 21.94 MB\n",
            "Accuracy: 88.80%\n",
            "Execution Time: 27.55 s\n",
            "Model Score: 34.00\n",
            "--------------------------------------------------\n",
            "Epoch 17: (lr = 0.0001)\n"
          ]
        },
        {
          "name": "stderr",
          "output_type": "stream",
          "text": [
            "100%|██████████| 390/390 [02:19<00:00,  2.81it/s]\n"
          ]
        },
        {
          "name": "stdout",
          "output_type": "stream",
          "text": [
            "Disabling observer for subseq epochs ... (epoch=17)\n",
            "Saving and Scoring ... (epoch=17)\n",
            "Files already downloaded and verified\n",
            "Files already downloaded and verified\n"
          ]
        },
        {
          "name": "stderr",
          "output_type": "stream",
          "text": [
            "100%|██████████| 500/500 [00:27<00:00, 18.40it/s]\n"
          ]
        },
        {
          "name": "stdout",
          "output_type": "stream",
          "text": [
            "Accuracy of the model on the test images: 89.8%\n",
            "Model Size: 21.94 MB\n",
            "Accuracy: 89.80%\n",
            "Execution Time: 27.18 s\n",
            "Model Score: 36.00\n",
            "--------------------------------------------------\n",
            "Epoch 18: (lr = 0.0001)\n"
          ]
        },
        {
          "name": "stderr",
          "output_type": "stream",
          "text": [
            "100%|██████████| 390/390 [02:18<00:00,  2.81it/s]\n"
          ]
        },
        {
          "name": "stdout",
          "output_type": "stream",
          "text": [
            "Disabling observer for subseq epochs ... (epoch=18)\n",
            "Saving and Scoring ... (epoch=18)\n",
            "Files already downloaded and verified\n",
            "Files already downloaded and verified\n"
          ]
        },
        {
          "name": "stderr",
          "output_type": "stream",
          "text": [
            "100%|██████████| 500/500 [00:27<00:00, 17.89it/s]\n"
          ]
        },
        {
          "name": "stdout",
          "output_type": "stream",
          "text": [
            "Accuracy of the model on the test images: 89.0%\n",
            "Model Size: 21.94 MB\n",
            "Accuracy: 89.00%\n",
            "Execution Time: 27.96 s\n",
            "Model Score: 36.00\n",
            "--------------------------------------------------\n",
            "Epoch 19: (lr = 0.0001)\n"
          ]
        },
        {
          "name": "stderr",
          "output_type": "stream",
          "text": [
            "100%|██████████| 390/390 [02:19<00:00,  2.81it/s]\n"
          ]
        },
        {
          "name": "stdout",
          "output_type": "stream",
          "text": [
            "Disabling observer for subseq epochs ... (epoch=19)\n",
            "Saving and Scoring ... (epoch=19)\n",
            "Files already downloaded and verified\n",
            "Files already downloaded and verified\n"
          ]
        },
        {
          "name": "stderr",
          "output_type": "stream",
          "text": [
            "100%|██████████| 500/500 [00:27<00:00, 18.00it/s]\n"
          ]
        },
        {
          "name": "stdout",
          "output_type": "stream",
          "text": [
            "Accuracy of the model on the test images: 89.6%\n",
            "Model Size: 21.94 MB\n",
            "Accuracy: 89.60%\n",
            "Execution Time: 27.78 s\n",
            "Model Score: 36.00\n",
            "--------------------------------------------------\n",
            "Epoch 20: (lr = 0.0001)\n"
          ]
        },
        {
          "name": "stderr",
          "output_type": "stream",
          "text": [
            "100%|██████████| 390/390 [02:19<00:00,  2.80it/s]\n"
          ]
        },
        {
          "name": "stdout",
          "output_type": "stream",
          "text": [
            "Disabling observer for subseq epochs ... (epoch=20)\n",
            "Saving and Scoring ... (epoch=20)\n",
            "Files already downloaded and verified\n",
            "Files already downloaded and verified\n"
          ]
        },
        {
          "name": "stderr",
          "output_type": "stream",
          "text": [
            "100%|██████████| 500/500 [00:27<00:00, 18.04it/s]\n"
          ]
        },
        {
          "name": "stdout",
          "output_type": "stream",
          "text": [
            "Accuracy of the model on the test images: 88.4%\n",
            "Model Size: 21.94 MB\n",
            "Accuracy: 88.40%\n",
            "Execution Time: 27.72 s\n",
            "Model Score: 34.00\n",
            "--------------------------------------------------\n",
            "Epoch 21: (lr = 1e-05)\n"
          ]
        },
        {
          "name": "stderr",
          "output_type": "stream",
          "text": [
            "100%|██████████| 390/390 [02:18<00:00,  2.81it/s]\n"
          ]
        },
        {
          "name": "stdout",
          "output_type": "stream",
          "text": [
            "Disabling observer for subseq epochs ... (epoch=21)\n",
            "Saving and Scoring ... (epoch=21)\n",
            "Files already downloaded and verified\n",
            "Files already downloaded and verified\n"
          ]
        },
        {
          "name": "stderr",
          "output_type": "stream",
          "text": [
            "100%|██████████| 500/500 [00:27<00:00, 18.05it/s]\n"
          ]
        },
        {
          "name": "stdout",
          "output_type": "stream",
          "text": [
            "Accuracy of the model on the test images: 89.8%\n",
            "Model Size: 21.94 MB\n",
            "Accuracy: 89.80%\n",
            "Execution Time: 27.71 s\n",
            "Model Score: 36.00\n",
            "--------------------------------------------------\n",
            "Epoch 22: (lr = 1e-05)\n"
          ]
        },
        {
          "name": "stderr",
          "output_type": "stream",
          "text": [
            "100%|██████████| 390/390 [02:19<00:00,  2.79it/s]\n"
          ]
        },
        {
          "name": "stdout",
          "output_type": "stream",
          "text": [
            "Disabling observer for subseq epochs ... (epoch=22)\n",
            "Saving and Scoring ... (epoch=22)\n",
            "Files already downloaded and verified\n",
            "Files already downloaded and verified\n"
          ]
        },
        {
          "name": "stderr",
          "output_type": "stream",
          "text": [
            "100%|██████████| 500/500 [00:27<00:00, 18.09it/s]\n"
          ]
        },
        {
          "name": "stdout",
          "output_type": "stream",
          "text": [
            "Accuracy of the model on the test images: 90.6%\n",
            "Model Size: 21.94 MB\n",
            "Accuracy: 90.60%\n",
            "Execution Time: 27.65 s\n",
            "Model Score: 38.00\n",
            "--------------------------------------------------\n",
            "Epoch 23: (lr = 1e-05)\n"
          ]
        },
        {
          "name": "stderr",
          "output_type": "stream",
          "text": [
            "100%|██████████| 390/390 [02:19<00:00,  2.80it/s]\n"
          ]
        },
        {
          "name": "stdout",
          "output_type": "stream",
          "text": [
            "Disabling observer for subseq epochs ... (epoch=23)\n",
            "Saving and Scoring ... (epoch=23)\n",
            "Files already downloaded and verified\n",
            "Files already downloaded and verified\n"
          ]
        },
        {
          "name": "stderr",
          "output_type": "stream",
          "text": [
            "100%|██████████| 500/500 [00:27<00:00, 18.10it/s]\n"
          ]
        },
        {
          "name": "stdout",
          "output_type": "stream",
          "text": [
            "Accuracy of the model on the test images: 90.2%\n",
            "Model Size: 21.94 MB\n",
            "Accuracy: 90.20%\n",
            "Execution Time: 27.62 s\n",
            "Model Score: 38.00\n",
            "--------------------------------------------------\n",
            "Epoch 24: (lr = 1e-05)\n"
          ]
        },
        {
          "name": "stderr",
          "output_type": "stream",
          "text": [
            "100%|██████████| 390/390 [02:19<00:00,  2.81it/s]\n"
          ]
        },
        {
          "name": "stdout",
          "output_type": "stream",
          "text": [
            "Disabling observer for subseq epochs ... (epoch=24)\n",
            "Saving and Scoring ... (epoch=24)\n",
            "Files already downloaded and verified\n",
            "Files already downloaded and verified\n"
          ]
        },
        {
          "name": "stderr",
          "output_type": "stream",
          "text": [
            "100%|██████████| 500/500 [00:27<00:00, 17.99it/s]\n"
          ]
        },
        {
          "name": "stdout",
          "output_type": "stream",
          "text": [
            "Accuracy of the model on the test images: 89.6%\n",
            "Model Size: 21.94 MB\n",
            "Accuracy: 89.60%\n",
            "Execution Time: 27.79 s\n",
            "Model Score: 36.00\n",
            "--------------------------------------------------\n",
            "Epoch 25: (lr = 1e-05)\n"
          ]
        },
        {
          "name": "stderr",
          "output_type": "stream",
          "text": [
            "100%|██████████| 390/390 [02:19<00:00,  2.80it/s]\n"
          ]
        },
        {
          "name": "stdout",
          "output_type": "stream",
          "text": [
            "Disabling observer for subseq epochs ... (epoch=25)\n",
            "Saving and Scoring ... (epoch=25)\n",
            "Files already downloaded and verified\n",
            "Files already downloaded and verified\n"
          ]
        },
        {
          "name": "stderr",
          "output_type": "stream",
          "text": [
            "100%|██████████| 500/500 [00:27<00:00, 18.10it/s]\n"
          ]
        },
        {
          "name": "stdout",
          "output_type": "stream",
          "text": [
            "Accuracy of the model on the test images: 90.8%\n",
            "Model Size: 21.94 MB\n",
            "Accuracy: 90.80%\n",
            "Execution Time: 27.62 s\n",
            "Model Score: 38.00\n",
            "--------------------------------------------------\n",
            "Epoch 26: (lr = 1e-05)\n"
          ]
        },
        {
          "name": "stderr",
          "output_type": "stream",
          "text": [
            "100%|██████████| 390/390 [02:19<00:00,  2.80it/s]\n"
          ]
        },
        {
          "name": "stdout",
          "output_type": "stream",
          "text": [
            "Disabling observer for subseq epochs ... (epoch=26)\n",
            "Saving and Scoring ... (epoch=26)\n",
            "Files already downloaded and verified\n",
            "Files already downloaded and verified\n"
          ]
        },
        {
          "name": "stderr",
          "output_type": "stream",
          "text": [
            "100%|██████████| 500/500 [00:27<00:00, 18.18it/s]\n"
          ]
        },
        {
          "name": "stdout",
          "output_type": "stream",
          "text": [
            "Accuracy of the model on the test images: 90.2%\n",
            "Model Size: 21.94 MB\n",
            "Accuracy: 90.20%\n",
            "Execution Time: 27.51 s\n",
            "Model Score: 38.00\n",
            "--------------------------------------------------\n",
            "Epoch 27: (lr = 1e-05)\n"
          ]
        },
        {
          "name": "stderr",
          "output_type": "stream",
          "text": [
            "100%|██████████| 390/390 [02:19<00:00,  2.80it/s]\n"
          ]
        },
        {
          "name": "stdout",
          "output_type": "stream",
          "text": [
            "Disabling observer for subseq epochs ... (epoch=27)\n",
            "Saving and Scoring ... (epoch=27)\n",
            "Files already downloaded and verified\n",
            "Files already downloaded and verified\n"
          ]
        },
        {
          "name": "stderr",
          "output_type": "stream",
          "text": [
            "100%|██████████| 500/500 [00:27<00:00, 18.07it/s]\n"
          ]
        },
        {
          "name": "stdout",
          "output_type": "stream",
          "text": [
            "Accuracy of the model on the test images: 90.8%\n",
            "Model Size: 21.94 MB\n",
            "Accuracy: 90.80%\n",
            "Execution Time: 27.67 s\n",
            "Model Score: 38.00\n",
            "--------------------------------------------------\n",
            "Epoch 28: (lr = 1e-05)\n"
          ]
        },
        {
          "name": "stderr",
          "output_type": "stream",
          "text": [
            "100%|██████████| 390/390 [02:18<00:00,  2.81it/s]\n"
          ]
        },
        {
          "name": "stdout",
          "output_type": "stream",
          "text": [
            "Disabling observer for subseq epochs ... (epoch=28)\n",
            "Saving and Scoring ... (epoch=28)\n",
            "Files already downloaded and verified\n",
            "Files already downloaded and verified\n"
          ]
        },
        {
          "name": "stderr",
          "output_type": "stream",
          "text": [
            "100%|██████████| 500/500 [00:27<00:00, 17.95it/s]\n"
          ]
        },
        {
          "name": "stdout",
          "output_type": "stream",
          "text": [
            "Accuracy of the model on the test images: 90.4%\n",
            "Model Size: 21.94 MB\n",
            "Accuracy: 90.40%\n",
            "Execution Time: 27.85 s\n",
            "Model Score: 38.00\n",
            "--------------------------------------------------\n",
            "Epoch 29: (lr = 1e-05)\n"
          ]
        },
        {
          "name": "stderr",
          "output_type": "stream",
          "text": [
            "100%|██████████| 390/390 [02:19<00:00,  2.80it/s]\n"
          ]
        },
        {
          "name": "stdout",
          "output_type": "stream",
          "text": [
            "Disabling observer for subseq epochs ... (epoch=29)\n",
            "Saving and Scoring ... (epoch=29)\n",
            "Files already downloaded and verified\n",
            "Files already downloaded and verified\n"
          ]
        },
        {
          "name": "stderr",
          "output_type": "stream",
          "text": [
            "100%|██████████| 500/500 [00:27<00:00, 18.16it/s]\n"
          ]
        },
        {
          "name": "stdout",
          "output_type": "stream",
          "text": [
            "Accuracy of the model on the test images: 90.2%\n",
            "Model Size: 21.94 MB\n",
            "Accuracy: 90.20%\n",
            "Execution Time: 27.53 s\n",
            "Model Score: 38.00\n",
            "--------------------------------------------------\n",
            "Epoch 30: (lr = 1e-05)\n"
          ]
        },
        {
          "name": "stderr",
          "output_type": "stream",
          "text": [
            "100%|██████████| 390/390 [02:19<00:00,  2.80it/s]\n"
          ]
        },
        {
          "name": "stdout",
          "output_type": "stream",
          "text": [
            "Disabling observer for subseq epochs ... (epoch=30)\n",
            "Saving and Scoring ... (epoch=30)\n",
            "Files already downloaded and verified\n",
            "Files already downloaded and verified\n"
          ]
        },
        {
          "name": "stderr",
          "output_type": "stream",
          "text": [
            "100%|██████████| 500/500 [00:28<00:00, 17.72it/s]"
          ]
        },
        {
          "name": "stdout",
          "output_type": "stream",
          "text": [
            "Accuracy of the model on the test images: 90.0%\n",
            "Model Size: 21.94 MB\n",
            "Accuracy: 90.00%\n",
            "Execution Time: 28.22 s\n",
            "Model Score: 38.00\n"
          ]
        },
        {
          "name": "stderr",
          "output_type": "stream",
          "text": [
            "\n"
          ]
        }
      ],
      "source": [
        "train_qat(prepared_model)"
      ]
    },
    {
      "cell_type": "code",
      "execution_count": 58,
      "metadata": {},
      "outputs": [
        {
          "name": "stdout",
          "output_type": "stream",
          "text": [
            "--------------------------------------------------\n",
            "Epoch 1: (lr = 1e-05)\n"
          ]
        },
        {
          "name": "stderr",
          "output_type": "stream",
          "text": [
            "100%|██████████| 390/390 [02:18<00:00,  2.81it/s]\n"
          ]
        },
        {
          "name": "stdout",
          "output_type": "stream",
          "text": [
            "Saving and Scoring ... (epoch=1)\n",
            "Files already downloaded and verified\n",
            "Files already downloaded and verified\n"
          ]
        },
        {
          "name": "stderr",
          "output_type": "stream",
          "text": [
            "100%|██████████| 500/500 [00:27<00:00, 18.17it/s]\n"
          ]
        },
        {
          "name": "stdout",
          "output_type": "stream",
          "text": [
            "Accuracy of the model on the test images: 90.0%\n",
            "Model Size: 21.94 MB\n",
            "Accuracy: 90.00%\n",
            "Execution Time: 27.52 s\n",
            "Model Score: 38.00\n",
            "--------------------------------------------------\n",
            "Epoch 2: (lr = 1e-05)\n"
          ]
        },
        {
          "name": "stderr",
          "output_type": "stream",
          "text": [
            "100%|██████████| 390/390 [02:18<00:00,  2.81it/s]\n"
          ]
        },
        {
          "name": "stdout",
          "output_type": "stream",
          "text": [
            "Saving and Scoring ... (epoch=2)\n",
            "Files already downloaded and verified\n",
            "Files already downloaded and verified\n"
          ]
        },
        {
          "name": "stderr",
          "output_type": "stream",
          "text": [
            "100%|██████████| 500/500 [00:27<00:00, 18.18it/s]\n"
          ]
        },
        {
          "name": "stdout",
          "output_type": "stream",
          "text": [
            "Accuracy of the model on the test images: 89.6%\n",
            "Model Size: 21.94 MB\n",
            "Accuracy: 89.60%\n",
            "Execution Time: 27.50 s\n",
            "Model Score: 36.00\n",
            "--------------------------------------------------\n",
            "Epoch 3: (lr = 1e-05)\n"
          ]
        },
        {
          "name": "stderr",
          "output_type": "stream",
          "text": [
            "100%|██████████| 390/390 [02:19<00:00,  2.80it/s]\n"
          ]
        },
        {
          "name": "stdout",
          "output_type": "stream",
          "text": [
            "Saving and Scoring ... (epoch=3)\n",
            "Files already downloaded and verified\n",
            "Files already downloaded and verified\n"
          ]
        },
        {
          "name": "stderr",
          "output_type": "stream",
          "text": [
            "100%|██████████| 500/500 [00:27<00:00, 18.25it/s]\n"
          ]
        },
        {
          "name": "stdout",
          "output_type": "stream",
          "text": [
            "Accuracy of the model on the test images: 90.0%\n",
            "Model Size: 21.94 MB\n",
            "Accuracy: 90.00%\n",
            "Execution Time: 27.40 s\n",
            "Model Score: 38.00\n",
            "--------------------------------------------------\n",
            "Epoch 4: (lr = 1e-05)\n"
          ]
        },
        {
          "name": "stderr",
          "output_type": "stream",
          "text": [
            "100%|██████████| 390/390 [02:19<00:00,  2.80it/s]\n"
          ]
        },
        {
          "name": "stdout",
          "output_type": "stream",
          "text": [
            "Saving and Scoring ... (epoch=4)\n",
            "Files already downloaded and verified\n",
            "Files already downloaded and verified\n"
          ]
        },
        {
          "name": "stderr",
          "output_type": "stream",
          "text": [
            "100%|██████████| 500/500 [00:27<00:00, 17.99it/s]\n"
          ]
        },
        {
          "name": "stdout",
          "output_type": "stream",
          "text": [
            "Accuracy of the model on the test images: 89.6%\n",
            "Model Size: 21.94 MB\n",
            "Accuracy: 89.60%\n",
            "Execution Time: 27.79 s\n",
            "Model Score: 36.00\n",
            "--------------------------------------------------\n",
            "Epoch 5: (lr = 1e-05)\n"
          ]
        },
        {
          "name": "stderr",
          "output_type": "stream",
          "text": [
            "100%|██████████| 390/390 [02:19<00:00,  2.80it/s]\n"
          ]
        },
        {
          "name": "stdout",
          "output_type": "stream",
          "text": [
            "Saving and Scoring ... (epoch=5)\n",
            "Files already downloaded and verified\n",
            "Files already downloaded and verified\n"
          ]
        },
        {
          "name": "stderr",
          "output_type": "stream",
          "text": [
            "100%|██████████| 500/500 [00:28<00:00, 17.84it/s]\n"
          ]
        },
        {
          "name": "stdout",
          "output_type": "stream",
          "text": [
            "Accuracy of the model on the test images: 89.8%\n",
            "Model Size: 21.94 MB\n",
            "Accuracy: 89.80%\n",
            "Execution Time: 28.03 s\n",
            "Model Score: 36.00\n",
            "--------------------------------------------------\n",
            "Epoch 6: (lr = 1e-05)\n"
          ]
        },
        {
          "name": "stderr",
          "output_type": "stream",
          "text": [
            "100%|██████████| 390/390 [02:19<00:00,  2.80it/s]\n"
          ]
        },
        {
          "name": "stdout",
          "output_type": "stream",
          "text": [
            "Disabling observer for subseq epochs ... (epoch=6)\n",
            "Saving and Scoring ... (epoch=6)\n",
            "Files already downloaded and verified\n",
            "Files already downloaded and verified\n"
          ]
        },
        {
          "name": "stderr",
          "output_type": "stream",
          "text": [
            "100%|██████████| 500/500 [00:27<00:00, 17.98it/s]\n"
          ]
        },
        {
          "name": "stdout",
          "output_type": "stream",
          "text": [
            "Accuracy of the model on the test images: 89.2%\n",
            "Model Size: 21.94 MB\n",
            "Accuracy: 89.20%\n",
            "Execution Time: 27.82 s\n",
            "Model Score: 36.00\n",
            "--------------------------------------------------\n",
            "Epoch 7: (lr = 1e-05)\n"
          ]
        },
        {
          "name": "stderr",
          "output_type": "stream",
          "text": [
            "100%|██████████| 390/390 [02:19<00:00,  2.80it/s]\n"
          ]
        },
        {
          "name": "stdout",
          "output_type": "stream",
          "text": [
            "Disabling observer for subseq epochs ... (epoch=7)\n",
            "Saving and Scoring ... (epoch=7)\n",
            "Files already downloaded and verified\n",
            "Files already downloaded and verified\n"
          ]
        },
        {
          "name": "stderr",
          "output_type": "stream",
          "text": [
            "100%|██████████| 500/500 [00:27<00:00, 18.07it/s]\n"
          ]
        },
        {
          "name": "stdout",
          "output_type": "stream",
          "text": [
            "Accuracy of the model on the test images: 90.2%\n",
            "Model Size: 21.94 MB\n",
            "Accuracy: 90.20%\n",
            "Execution Time: 27.67 s\n",
            "Model Score: 38.00\n",
            "--------------------------------------------------\n",
            "Epoch 8: (lr = 1e-05)\n"
          ]
        },
        {
          "name": "stderr",
          "output_type": "stream",
          "text": [
            "100%|██████████| 390/390 [02:19<00:00,  2.80it/s]\n"
          ]
        },
        {
          "name": "stdout",
          "output_type": "stream",
          "text": [
            "Disabling observer for subseq epochs ... (epoch=8)\n",
            "Saving and Scoring ... (epoch=8)\n",
            "Files already downloaded and verified\n",
            "Files already downloaded and verified\n"
          ]
        },
        {
          "name": "stderr",
          "output_type": "stream",
          "text": [
            "100%|██████████| 500/500 [00:27<00:00, 18.02it/s]\n"
          ]
        },
        {
          "name": "stdout",
          "output_type": "stream",
          "text": [
            "Accuracy of the model on the test images: 89.6%\n",
            "Model Size: 21.94 MB\n",
            "Accuracy: 89.60%\n",
            "Execution Time: 27.75 s\n",
            "Model Score: 36.00\n",
            "--------------------------------------------------\n",
            "Epoch 9: (lr = 1e-05)\n"
          ]
        },
        {
          "name": "stderr",
          "output_type": "stream",
          "text": [
            "100%|██████████| 390/390 [02:19<00:00,  2.80it/s]\n"
          ]
        },
        {
          "name": "stdout",
          "output_type": "stream",
          "text": [
            "Disabling observer for subseq epochs ... (epoch=9)\n",
            "Saving and Scoring ... (epoch=9)\n",
            "Files already downloaded and verified\n",
            "Files already downloaded and verified\n"
          ]
        },
        {
          "name": "stderr",
          "output_type": "stream",
          "text": [
            "100%|██████████| 500/500 [00:27<00:00, 18.18it/s]\n"
          ]
        },
        {
          "name": "stdout",
          "output_type": "stream",
          "text": [
            "Accuracy of the model on the test images: 90.6%\n",
            "Model Size: 21.94 MB\n",
            "Accuracy: 90.60%\n",
            "Execution Time: 27.50 s\n",
            "Model Score: 38.00\n",
            "--------------------------------------------------\n",
            "Epoch 10: (lr = 1e-05)\n"
          ]
        },
        {
          "name": "stderr",
          "output_type": "stream",
          "text": [
            "100%|██████████| 390/390 [02:19<00:00,  2.80it/s]\n"
          ]
        },
        {
          "name": "stdout",
          "output_type": "stream",
          "text": [
            "Disabling observer for subseq epochs ... (epoch=10)\n",
            "Saving and Scoring ... (epoch=10)\n",
            "Files already downloaded and verified\n",
            "Files already downloaded and verified\n"
          ]
        },
        {
          "name": "stderr",
          "output_type": "stream",
          "text": [
            "100%|██████████| 500/500 [00:27<00:00, 17.95it/s]\n"
          ]
        },
        {
          "name": "stdout",
          "output_type": "stream",
          "text": [
            "Accuracy of the model on the test images: 90.6%\n",
            "Model Size: 21.94 MB\n",
            "Accuracy: 90.60%\n",
            "Execution Time: 27.85 s\n",
            "Model Score: 38.00\n",
            "--------------------------------------------------\n",
            "Epoch 11: (lr = 1e-05)\n"
          ]
        },
        {
          "name": "stderr",
          "output_type": "stream",
          "text": [
            "100%|██████████| 390/390 [02:19<00:00,  2.80it/s]\n"
          ]
        },
        {
          "name": "stdout",
          "output_type": "stream",
          "text": [
            "Disabling observer for subseq epochs ... (epoch=11)\n",
            "Saving and Scoring ... (epoch=11)\n",
            "Files already downloaded and verified\n",
            "Files already downloaded and verified\n"
          ]
        },
        {
          "name": "stderr",
          "output_type": "stream",
          "text": [
            "100%|██████████| 500/500 [00:27<00:00, 18.09it/s]\n"
          ]
        },
        {
          "name": "stdout",
          "output_type": "stream",
          "text": [
            "Accuracy of the model on the test images: 90.6%\n",
            "Model Size: 21.94 MB\n",
            "Accuracy: 90.60%\n",
            "Execution Time: 27.64 s\n",
            "Model Score: 38.00\n",
            "--------------------------------------------------\n",
            "Epoch 12: (lr = 1e-05)\n"
          ]
        },
        {
          "name": "stderr",
          "output_type": "stream",
          "text": [
            "100%|██████████| 390/390 [02:19<00:00,  2.80it/s]\n"
          ]
        },
        {
          "name": "stdout",
          "output_type": "stream",
          "text": [
            "Disabling observer for subseq epochs ... (epoch=12)\n",
            "Saving and Scoring ... (epoch=12)\n",
            "Files already downloaded and verified\n",
            "Files already downloaded and verified\n"
          ]
        },
        {
          "name": "stderr",
          "output_type": "stream",
          "text": [
            "100%|██████████| 500/500 [00:27<00:00, 17.92it/s]\n"
          ]
        },
        {
          "name": "stdout",
          "output_type": "stream",
          "text": [
            "Accuracy of the model on the test images: 91.0%\n",
            "Model Size: 21.94 MB\n",
            "Accuracy: 91.00%\n",
            "Execution Time: 27.90 s\n",
            "Model Score: 40.00\n",
            "--------------------------------------------------\n",
            "Epoch 13: (lr = 1e-05)\n"
          ]
        },
        {
          "name": "stderr",
          "output_type": "stream",
          "text": [
            "100%|██████████| 390/390 [02:19<00:00,  2.80it/s]\n"
          ]
        },
        {
          "name": "stdout",
          "output_type": "stream",
          "text": [
            "Disabling observer for subseq epochs ... (epoch=13)\n",
            "Saving and Scoring ... (epoch=13)\n",
            "Files already downloaded and verified\n",
            "Files already downloaded and verified\n"
          ]
        },
        {
          "name": "stderr",
          "output_type": "stream",
          "text": [
            "100%|██████████| 500/500 [00:27<00:00, 17.98it/s]\n"
          ]
        },
        {
          "name": "stdout",
          "output_type": "stream",
          "text": [
            "Accuracy of the model on the test images: 90.8%\n",
            "Model Size: 21.94 MB\n",
            "Accuracy: 90.80%\n",
            "Execution Time: 27.82 s\n",
            "Model Score: 38.00\n",
            "--------------------------------------------------\n",
            "Epoch 14: (lr = 1e-05)\n"
          ]
        },
        {
          "name": "stderr",
          "output_type": "stream",
          "text": [
            "100%|██████████| 390/390 [02:19<00:00,  2.80it/s]\n"
          ]
        },
        {
          "name": "stdout",
          "output_type": "stream",
          "text": [
            "Disabling observer for subseq epochs ... (epoch=14)\n",
            "Saving and Scoring ... (epoch=14)\n",
            "Files already downloaded and verified\n",
            "Files already downloaded and verified\n"
          ]
        },
        {
          "name": "stderr",
          "output_type": "stream",
          "text": [
            "100%|██████████| 500/500 [00:27<00:00, 18.07it/s]\n"
          ]
        },
        {
          "name": "stdout",
          "output_type": "stream",
          "text": [
            "Accuracy of the model on the test images: 89.4%\n",
            "Model Size: 21.94 MB\n",
            "Accuracy: 89.40%\n",
            "Execution Time: 27.67 s\n",
            "Model Score: 36.00\n",
            "--------------------------------------------------\n",
            "Epoch 15: (lr = 1e-05)\n"
          ]
        },
        {
          "name": "stderr",
          "output_type": "stream",
          "text": [
            "100%|██████████| 390/390 [02:18<00:00,  2.81it/s]\n"
          ]
        },
        {
          "name": "stdout",
          "output_type": "stream",
          "text": [
            "Disabling observer for subseq epochs ... (epoch=15)\n",
            "Saving and Scoring ... (epoch=15)\n",
            "Files already downloaded and verified\n",
            "Files already downloaded and verified\n"
          ]
        },
        {
          "name": "stderr",
          "output_type": "stream",
          "text": [
            "100%|██████████| 500/500 [00:27<00:00, 18.00it/s]\n"
          ]
        },
        {
          "name": "stdout",
          "output_type": "stream",
          "text": [
            "Accuracy of the model on the test images: 90.4%\n",
            "Model Size: 21.94 MB\n",
            "Accuracy: 90.40%\n",
            "Execution Time: 27.78 s\n",
            "Model Score: 38.00\n",
            "--------------------------------------------------\n",
            "Epoch 16: (lr = 1e-05)\n"
          ]
        },
        {
          "name": "stderr",
          "output_type": "stream",
          "text": [
            "100%|██████████| 390/390 [02:18<00:00,  2.81it/s]\n"
          ]
        },
        {
          "name": "stdout",
          "output_type": "stream",
          "text": [
            "Disabling observer for subseq epochs ... (epoch=16)\n",
            "Saving and Scoring ... (epoch=16)\n",
            "Files already downloaded and verified\n",
            "Files already downloaded and verified\n"
          ]
        },
        {
          "name": "stderr",
          "output_type": "stream",
          "text": [
            "100%|██████████| 500/500 [00:27<00:00, 17.99it/s]\n"
          ]
        },
        {
          "name": "stdout",
          "output_type": "stream",
          "text": [
            "Accuracy of the model on the test images: 89.8%\n",
            "Model Size: 21.94 MB\n",
            "Accuracy: 89.80%\n",
            "Execution Time: 27.79 s\n",
            "Model Score: 36.00\n",
            "--------------------------------------------------\n",
            "Epoch 17: (lr = 1e-05)\n"
          ]
        },
        {
          "name": "stderr",
          "output_type": "stream",
          "text": [
            "100%|██████████| 390/390 [02:18<00:00,  2.81it/s]\n"
          ]
        },
        {
          "name": "stdout",
          "output_type": "stream",
          "text": [
            "Disabling observer for subseq epochs ... (epoch=17)\n",
            "Saving and Scoring ... (epoch=17)\n",
            "Files already downloaded and verified\n",
            "Files already downloaded and verified\n"
          ]
        },
        {
          "name": "stderr",
          "output_type": "stream",
          "text": [
            "100%|██████████| 500/500 [00:27<00:00, 18.23it/s]\n"
          ]
        },
        {
          "name": "stdout",
          "output_type": "stream",
          "text": [
            "Accuracy of the model on the test images: 90.4%\n",
            "Model Size: 21.94 MB\n",
            "Accuracy: 90.40%\n",
            "Execution Time: 27.43 s\n",
            "Model Score: 38.00\n",
            "--------------------------------------------------\n",
            "Epoch 18: (lr = 1e-05)\n"
          ]
        },
        {
          "name": "stderr",
          "output_type": "stream",
          "text": [
            "100%|██████████| 390/390 [02:18<00:00,  2.81it/s]\n"
          ]
        },
        {
          "name": "stdout",
          "output_type": "stream",
          "text": [
            "Disabling observer for subseq epochs ... (epoch=18)\n",
            "Saving and Scoring ... (epoch=18)\n",
            "Files already downloaded and verified\n",
            "Files already downloaded and verified\n"
          ]
        },
        {
          "name": "stderr",
          "output_type": "stream",
          "text": [
            "100%|██████████| 500/500 [00:27<00:00, 18.21it/s]\n"
          ]
        },
        {
          "name": "stdout",
          "output_type": "stream",
          "text": [
            "Accuracy of the model on the test images: 90.2%\n",
            "Model Size: 21.94 MB\n",
            "Accuracy: 90.20%\n",
            "Execution Time: 27.45 s\n",
            "Model Score: 38.00\n",
            "--------------------------------------------------\n",
            "Epoch 19: (lr = 1e-05)\n"
          ]
        },
        {
          "name": "stderr",
          "output_type": "stream",
          "text": [
            "100%|██████████| 390/390 [02:18<00:00,  2.81it/s]\n"
          ]
        },
        {
          "name": "stdout",
          "output_type": "stream",
          "text": [
            "Disabling observer for subseq epochs ... (epoch=19)\n",
            "Saving and Scoring ... (epoch=19)\n",
            "Files already downloaded and verified\n",
            "Files already downloaded and verified\n"
          ]
        },
        {
          "name": "stderr",
          "output_type": "stream",
          "text": [
            "100%|██████████| 500/500 [00:27<00:00, 18.03it/s]\n"
          ]
        },
        {
          "name": "stdout",
          "output_type": "stream",
          "text": [
            "Accuracy of the model on the test images: 91.0%\n",
            "Model Size: 21.94 MB\n",
            "Accuracy: 91.00%\n",
            "Execution Time: 27.73 s\n",
            "Model Score: 40.00\n",
            "--------------------------------------------------\n",
            "Epoch 20: (lr = 1e-05)\n"
          ]
        },
        {
          "name": "stderr",
          "output_type": "stream",
          "text": [
            "100%|██████████| 390/390 [02:19<00:00,  2.81it/s]\n"
          ]
        },
        {
          "name": "stdout",
          "output_type": "stream",
          "text": [
            "Disabling observer for subseq epochs ... (epoch=20)\n",
            "Saving and Scoring ... (epoch=20)\n",
            "Files already downloaded and verified\n",
            "Files already downloaded and verified\n"
          ]
        },
        {
          "name": "stderr",
          "output_type": "stream",
          "text": [
            "100%|██████████| 500/500 [00:27<00:00, 18.17it/s]\n"
          ]
        },
        {
          "name": "stdout",
          "output_type": "stream",
          "text": [
            "Accuracy of the model on the test images: 90.2%\n",
            "Model Size: 21.94 MB\n",
            "Accuracy: 90.20%\n",
            "Execution Time: 27.51 s\n",
            "Model Score: 38.00\n",
            "--------------------------------------------------\n",
            "Epoch 21: (lr = 1.0000000000000002e-06)\n"
          ]
        },
        {
          "name": "stderr",
          "output_type": "stream",
          "text": [
            "100%|██████████| 390/390 [02:18<00:00,  2.81it/s]\n"
          ]
        },
        {
          "name": "stdout",
          "output_type": "stream",
          "text": [
            "Disabling observer for subseq epochs ... (epoch=21)\n",
            "Saving and Scoring ... (epoch=21)\n",
            "Files already downloaded and verified\n",
            "Files already downloaded and verified\n"
          ]
        },
        {
          "name": "stderr",
          "output_type": "stream",
          "text": [
            "100%|██████████| 500/500 [00:27<00:00, 18.01it/s]\n"
          ]
        },
        {
          "name": "stdout",
          "output_type": "stream",
          "text": [
            "Accuracy of the model on the test images: 90.6%\n",
            "Model Size: 21.94 MB\n",
            "Accuracy: 90.60%\n",
            "Execution Time: 27.77 s\n",
            "Model Score: 38.00\n",
            "--------------------------------------------------\n",
            "Epoch 22: (lr = 1.0000000000000002e-06)\n"
          ]
        },
        {
          "name": "stderr",
          "output_type": "stream",
          "text": [
            "100%|██████████| 390/390 [02:18<00:00,  2.81it/s]\n"
          ]
        },
        {
          "name": "stdout",
          "output_type": "stream",
          "text": [
            "Disabling observer for subseq epochs ... (epoch=22)\n",
            "Saving and Scoring ... (epoch=22)\n",
            "Files already downloaded and verified\n",
            "Files already downloaded and verified\n"
          ]
        },
        {
          "name": "stderr",
          "output_type": "stream",
          "text": [
            "100%|██████████| 500/500 [00:27<00:00, 18.20it/s]\n"
          ]
        },
        {
          "name": "stdout",
          "output_type": "stream",
          "text": [
            "Accuracy of the model on the test images: 90.0%\n",
            "Model Size: 21.94 MB\n",
            "Accuracy: 90.00%\n",
            "Execution Time: 27.47 s\n",
            "Model Score: 38.00\n",
            "--------------------------------------------------\n",
            "Epoch 23: (lr = 1.0000000000000002e-06)\n"
          ]
        },
        {
          "name": "stderr",
          "output_type": "stream",
          "text": [
            "100%|██████████| 390/390 [02:18<00:00,  2.81it/s]\n"
          ]
        },
        {
          "name": "stdout",
          "output_type": "stream",
          "text": [
            "Disabling observer for subseq epochs ... (epoch=23)\n",
            "Saving and Scoring ... (epoch=23)\n",
            "Files already downloaded and verified\n",
            "Files already downloaded and verified\n"
          ]
        },
        {
          "name": "stderr",
          "output_type": "stream",
          "text": [
            "100%|██████████| 500/500 [00:27<00:00, 18.18it/s]\n"
          ]
        },
        {
          "name": "stdout",
          "output_type": "stream",
          "text": [
            "Accuracy of the model on the test images: 89.4%\n",
            "Model Size: 21.94 MB\n",
            "Accuracy: 89.40%\n",
            "Execution Time: 27.50 s\n",
            "Model Score: 36.00\n",
            "--------------------------------------------------\n",
            "Epoch 24: (lr = 1.0000000000000002e-06)\n"
          ]
        },
        {
          "name": "stderr",
          "output_type": "stream",
          "text": [
            "100%|██████████| 390/390 [02:18<00:00,  2.81it/s]\n"
          ]
        },
        {
          "name": "stdout",
          "output_type": "stream",
          "text": [
            "Disabling observer for subseq epochs ... (epoch=24)\n",
            "Saving and Scoring ... (epoch=24)\n",
            "Files already downloaded and verified\n",
            "Files already downloaded and verified\n"
          ]
        },
        {
          "name": "stderr",
          "output_type": "stream",
          "text": [
            "100%|██████████| 500/500 [00:27<00:00, 18.28it/s]\n"
          ]
        },
        {
          "name": "stdout",
          "output_type": "stream",
          "text": [
            "Accuracy of the model on the test images: 90.0%\n",
            "Model Size: 21.94 MB\n",
            "Accuracy: 90.00%\n",
            "Execution Time: 27.36 s\n",
            "Model Score: 38.00\n",
            "--------------------------------------------------\n",
            "Epoch 25: (lr = 1.0000000000000002e-06)\n"
          ]
        },
        {
          "name": "stderr",
          "output_type": "stream",
          "text": [
            "100%|██████████| 390/390 [02:18<00:00,  2.81it/s]\n"
          ]
        },
        {
          "name": "stdout",
          "output_type": "stream",
          "text": [
            "Disabling observer for subseq epochs ... (epoch=25)\n",
            "Saving and Scoring ... (epoch=25)\n",
            "Files already downloaded and verified\n",
            "Files already downloaded and verified\n"
          ]
        },
        {
          "name": "stderr",
          "output_type": "stream",
          "text": [
            "100%|██████████| 500/500 [00:27<00:00, 18.27it/s]\n"
          ]
        },
        {
          "name": "stdout",
          "output_type": "stream",
          "text": [
            "Accuracy of the model on the test images: 90.2%\n",
            "Model Size: 21.94 MB\n",
            "Accuracy: 90.20%\n",
            "Execution Time: 27.37 s\n",
            "Model Score: 38.00\n",
            "--------------------------------------------------\n",
            "Epoch 26: (lr = 1.0000000000000002e-06)\n"
          ]
        },
        {
          "name": "stderr",
          "output_type": "stream",
          "text": [
            "100%|██████████| 390/390 [02:18<00:00,  2.81it/s]\n"
          ]
        },
        {
          "name": "stdout",
          "output_type": "stream",
          "text": [
            "Disabling observer for subseq epochs ... (epoch=26)\n",
            "Saving and Scoring ... (epoch=26)\n",
            "Files already downloaded and verified\n",
            "Files already downloaded and verified\n"
          ]
        },
        {
          "name": "stderr",
          "output_type": "stream",
          "text": [
            "100%|██████████| 500/500 [00:27<00:00, 18.16it/s]\n"
          ]
        },
        {
          "name": "stdout",
          "output_type": "stream",
          "text": [
            "Accuracy of the model on the test images: 90.4%\n",
            "Model Size: 21.94 MB\n",
            "Accuracy: 90.40%\n",
            "Execution Time: 27.54 s\n",
            "Model Score: 38.00\n",
            "--------------------------------------------------\n",
            "Epoch 27: (lr = 1.0000000000000002e-06)\n"
          ]
        },
        {
          "name": "stderr",
          "output_type": "stream",
          "text": [
            "100%|██████████| 390/390 [02:18<00:00,  2.81it/s]\n"
          ]
        },
        {
          "name": "stdout",
          "output_type": "stream",
          "text": [
            "Disabling observer for subseq epochs ... (epoch=27)\n",
            "Saving and Scoring ... (epoch=27)\n",
            "Files already downloaded and verified\n",
            "Files already downloaded and verified\n"
          ]
        },
        {
          "name": "stderr",
          "output_type": "stream",
          "text": [
            "100%|██████████| 500/500 [00:27<00:00, 18.28it/s]\n"
          ]
        },
        {
          "name": "stdout",
          "output_type": "stream",
          "text": [
            "Accuracy of the model on the test images: 90.6%\n",
            "Model Size: 21.94 MB\n",
            "Accuracy: 90.60%\n",
            "Execution Time: 27.35 s\n",
            "Model Score: 38.00\n",
            "--------------------------------------------------\n",
            "Epoch 28: (lr = 1.0000000000000002e-06)\n"
          ]
        },
        {
          "name": "stderr",
          "output_type": "stream",
          "text": [
            "100%|██████████| 390/390 [02:18<00:00,  2.81it/s]\n"
          ]
        },
        {
          "name": "stdout",
          "output_type": "stream",
          "text": [
            "Disabling observer for subseq epochs ... (epoch=28)\n",
            "Saving and Scoring ... (epoch=28)\n",
            "Files already downloaded and verified\n",
            "Files already downloaded and verified\n"
          ]
        },
        {
          "name": "stderr",
          "output_type": "stream",
          "text": [
            "100%|██████████| 500/500 [00:27<00:00, 17.98it/s]\n"
          ]
        },
        {
          "name": "stdout",
          "output_type": "stream",
          "text": [
            "Accuracy of the model on the test images: 91.2%\n",
            "Model Size: 21.94 MB\n",
            "Accuracy: 91.20%\n",
            "Execution Time: 27.80 s\n",
            "Model Score: 40.00\n",
            "--------------------------------------------------\n",
            "Epoch 29: (lr = 1.0000000000000002e-06)\n"
          ]
        },
        {
          "name": "stderr",
          "output_type": "stream",
          "text": [
            "100%|██████████| 390/390 [02:18<00:00,  2.81it/s]\n"
          ]
        },
        {
          "name": "stdout",
          "output_type": "stream",
          "text": [
            "Disabling observer for subseq epochs ... (epoch=29)\n",
            "Saving and Scoring ... (epoch=29)\n",
            "Files already downloaded and verified\n",
            "Files already downloaded and verified\n"
          ]
        },
        {
          "name": "stderr",
          "output_type": "stream",
          "text": [
            "100%|██████████| 500/500 [00:27<00:00, 18.15it/s]\n"
          ]
        },
        {
          "name": "stdout",
          "output_type": "stream",
          "text": [
            "Accuracy of the model on the test images: 90.4%\n",
            "Model Size: 21.94 MB\n",
            "Accuracy: 90.40%\n",
            "Execution Time: 27.54 s\n",
            "Model Score: 38.00\n",
            "--------------------------------------------------\n",
            "Epoch 30: (lr = 1.0000000000000002e-06)\n"
          ]
        },
        {
          "name": "stderr",
          "output_type": "stream",
          "text": [
            "100%|██████████| 390/390 [02:18<00:00,  2.81it/s]\n"
          ]
        },
        {
          "name": "stdout",
          "output_type": "stream",
          "text": [
            "Disabling observer for subseq epochs ... (epoch=30)\n",
            "Saving and Scoring ... (epoch=30)\n",
            "Files already downloaded and verified\n",
            "Files already downloaded and verified\n"
          ]
        },
        {
          "name": "stderr",
          "output_type": "stream",
          "text": [
            "100%|██████████| 500/500 [00:27<00:00, 17.91it/s]"
          ]
        },
        {
          "name": "stdout",
          "output_type": "stream",
          "text": [
            "Accuracy of the model on the test images: 90.0%\n",
            "Model Size: 21.94 MB\n",
            "Accuracy: 90.00%\n",
            "Execution Time: 27.93 s\n",
            "Model Score: 38.00\n"
          ]
        },
        {
          "name": "stderr",
          "output_type": "stream",
          "text": [
            "\n"
          ]
        }
      ],
      "source": [
        "train_qat(prepared_model, lr=1e-5)"
      ]
    },
    {
      "cell_type": "markdown",
      "metadata": {},
      "source": [
        "## 有使用 SmoothQuant (per-tensor 版本): Accuracy 最高 92.4%"
      ]
    },
    {
      "cell_type": "code",
      "execution_count": 43,
      "metadata": {},
      "outputs": [],
      "source": [
        "from typing import Any, Callable\n",
        "from torch.fx import Node, GraphModule\n",
        "from torch.ao.quantization import FakeQuantize\n",
        "\n",
        "\n",
        "def smooth_quant(prepared_model: GraphModule, alpha: float = 0.5, is_print_info: bool = False) -> None:\n",
        "    ########################################## [Helper Functions] ######################################################\n",
        "    def assert_check_node_linear(node: Node) -> None:\n",
        "        assert node.op == \"call_function\" and node.target == torch.ops.aten.linear.default\n",
        "    def assert_check_node_layernorm(node: Node) -> None:\n",
        "        assert node.op == \"call_function\" and node.target == torch.ops.aten.layer_norm.default\n",
        "    def assert_check_node_observer(node: Node) -> None:\n",
        "        assert node.op == \"call_module\" and \"activation_post_process\" in node.target\n",
        "    def assert_check_node_get_attr(node: Node) -> None:\n",
        "        assert node.op == \"get_attr\"\n",
        "    def assert_is_tensor(x: Any) -> None:\n",
        "        assert isinstance(x, torch.Tensor), f\"Got [type(x)] == {type(x)}.\"\n",
        "\n",
        "    def is_pass_assert(assert_op: Callable[[Node], None], node: Node) -> bool:\n",
        "        try:\n",
        "            assert_op(node)\n",
        "        except AssertionError:\n",
        "            return False\n",
        "        return True\n",
        "\n",
        "    def print_node(node: Node, is_all_info: bool = False, end=\"\\n\") -> Node:\n",
        "        if is_all_info:\n",
        "            print(f\"<Node[{node.name}] op={node.op}, target={node.target}, args={node.args}, kwargs={node.kwargs}>\", end=end)\n",
        "        else:\n",
        "            print(f\"<Node[{node.name}] op={node.op}, target={node.target}>\", end=end)\n",
        "\n",
        "    def calc_migrate_scale(act_abs_max: float, wet_abs_max: float, alpha: float) -> tuple[float, float]:\n",
        "        migrate_scale = (act_abs_max ** alpha) / (wet_abs_max ** (1 - alpha))\n",
        "        return migrate_scale, 1. / migrate_scale\n",
        "\n",
        "    def get_tensor(tensor_node: Node, model: GraphModule) -> torch.Tensor:\n",
        "        try:\n",
        "            return getattr(model, tensor_node.target)\n",
        "        except Exception as e:\n",
        "            print_node(tensor_node, True)\n",
        "            raise e\n",
        "\n",
        "    def get_observer_module(observer_node: Node, model: GraphModule) -> FakeQuantize:\n",
        "        try:\n",
        "            return getattr(model, observer_node.target)\n",
        "        except Exception as e:\n",
        "            print_node(observer_node, True)\n",
        "            raise e\n",
        "\n",
        "    def get_layernorm_scale_shift(node: Node, model: GraphModule) -> tuple[torch.Tensor, torch.Tensor]:\n",
        "        scale_node, shift_node = node.args[2], node.args[3]\n",
        "        assert_check_node_get_attr(scale_node)\n",
        "        assert_check_node_get_attr(shift_node)\n",
        "        return get_tensor(scale_node, model), get_tensor(shift_node, model)\n",
        "\n",
        "    def get_linear_weight_stat(node: Node, model: GraphModule) -> tuple[float, FakeQuantize, torch.Tensor]:\n",
        "        assert_check_node_linear(node)\n",
        "        observer_node = node.args[1]\n",
        "        assert_check_node_observer(observer_node)\n",
        "        weight_node = observer_node.args[0]\n",
        "        assert_check_node_get_attr(weight_node)\n",
        "        weight = getattr(model, weight_node.target)\n",
        "        assert_is_tensor(weight)\n",
        "        return weight.abs().max().item(), get_observer_module(observer_node, model), weight\n",
        "\n",
        "    def get_linear_bias_stat(node: Node, model: GraphModule) -> tuple[float, FakeQuantize | None, torch.Tensor | None]:\n",
        "        assert_check_node_linear(node)\n",
        "        bias_node = node.args[2] if len(node.args) >= 3 else None\n",
        "        if not bias_node:\n",
        "            return None, None, None\n",
        "        if is_pass_assert(assert_check_node_observer, bias_node):\n",
        "            bias_observer = get_observer_module(bias_node, model)\n",
        "            bias_node = bias_node.args[0]\n",
        "        else:\n",
        "            bias_observer = None\n",
        "        assert_check_node_get_attr(bias_node)\n",
        "        bias = get_tensor(bias_node, model)\n",
        "        return bias.abs().max().item(), bias_observer, bias\n",
        "\n",
        "    def get_activation_stat(node: Node, model: GraphModule) -> tuple[float, FakeQuantize]:\n",
        "        assert_check_node_observer(node)\n",
        "        observer = get_observer_module(node, model)\n",
        "        min_val = observer.activation_post_process.min_val.item()\n",
        "        max_val = observer.activation_post_process.max_val.item()\n",
        "        return max(abs(min_val), abs(max_val)), observer\n",
        "\n",
        "    def get_weight_activation_stats(node: Node, model: GraphModule) -> tuple[tuple[float, FakeQuantize, torch.Tensor], tuple[float, FakeQuantize]]:\n",
        "        input_act_observer_node = node.args[0]\n",
        "        return get_linear_weight_stat(node, model), get_activation_stat(input_act_observer_node, model)\n",
        "\n",
        "    def update_tensor_observer(scale: float, tensor: torch.Tensor | None = None, observer: FakeQuantize | None = None) -> None:\n",
        "        if tensor is not None:\n",
        "            tensor.data *= scale\n",
        "        if observer is not None:\n",
        "            observer.scale.data *= scale\n",
        "            observer.activation_post_process.min_val.data *= scale\n",
        "            observer.activation_post_process.max_val.data *= scale\n",
        "\n",
        "    def update_observer_min_max_by_tensor(observer: FakeQuantize, tensor: torch.Tensor) -> None:\n",
        "        observer.activation_post_process.min_val.data = tensor.min()\n",
        "        observer.activation_post_process.max_val.data = tensor.max()\n",
        "\n",
        "    def update_qkv_param_observer(scale: float, weight: torch.Tensor, bias: torch.Tensor | None = None, wet_observer: FakeQuantize | None = None, bias_observer: FakeQuantize | None = None) -> None:\n",
        "        assert weight.size(0) % 3 == 0\n",
        "        v_channels = weight.size(0) // 3\n",
        "        weight.data[-v_channels:] *= scale\n",
        "        if bias is not None:\n",
        "            bias.data[-v_channels:] *= scale\n",
        "        if wet_observer is not None:\n",
        "            wet_observer.scale.data *= scale\n",
        "            update_observer_min_max_by_tensor(wet_observer, weight)\n",
        "        if bias_observer is not None:\n",
        "            bias_observer.scale.data *= scale\n",
        "            update_observer_min_max_by_tensor(bias_observer, bias)\n",
        "\n",
        "    def trace_to_prev_node(node: Node, check_assert_op: Callable[[Node], None]) -> Node:\n",
        "        _node = node\n",
        "        while not is_pass_assert(check_assert_op, _node):\n",
        "            _node = _node.args[0]\n",
        "        return _node\n",
        "\n",
        "    ########################################## [Dispatch Functions] ######################################################\n",
        "    def get_linear_type(node: Node) -> str:\n",
        "        assert_check_node_linear(node)\n",
        "        parent = node.args[1]\n",
        "        if parent.op != \"get_attr\":\n",
        "            parent = parent.args[0]\n",
        "\n",
        "        assert parent.op == \"get_attr\"\n",
        "        param_name = parent.target\n",
        "        if \"attn_qkv\"  in param_name: return \"attn_qkv\"\n",
        "        if \"attn_proj\" in param_name: return \"attn_proj\"\n",
        "        if \"mlp_fc1\"   in param_name: return \"mlp_fc1\"\n",
        "        if \"mlp_fc2\"   in param_name: return \"mlp_fc2\"\n",
        "        if \"head\"      in param_name: return \"head\"\n",
        "        return \"other\"\n",
        "\n",
        "    def smooth_attn_qkv_linear(node: Node, model: GraphModule, alpha: float = 0.5) -> None:\n",
        "        (wet_abs_max, wet_observer, weight), (act_abs_max, act_observer) = get_weight_activation_stats(node, model)\n",
        "        observer_node = node.args[0]\n",
        "        layernorm_node = observer_node.args[0]\n",
        "        assert_check_node_layernorm(layernorm_node)\n",
        "        layernorm_scale, layernorm_shift = get_layernorm_scale_shift(layernorm_node, model)\n",
        "\n",
        "        migrate_scale, recip_migrate_scale = calc_migrate_scale(act_abs_max, wet_abs_max, alpha)\n",
        "        update_tensor_observer(migrate_scale, weight, wet_observer)\n",
        "        update_tensor_observer(recip_migrate_scale, None, act_observer)\n",
        "        update_tensor_observer(recip_migrate_scale, layernorm_scale, None)\n",
        "        update_tensor_observer(recip_migrate_scale, layernorm_shift, None)\n",
        "\n",
        "    def smooth_attn_proj_linear(node: Node, model: GraphModule, alpha: float = 0.5) -> None:\n",
        "        (wet_abs_max, wet_observer, weight), (act_abs_max, act_observer) = get_weight_activation_stats(node, model)\n",
        "        observer_node = node.args[0]\n",
        "        qkv_observer_node = trace_to_prev_node(observer_node.args[0], assert_check_node_observer)\n",
        "        qkv_linear_node = qkv_observer_node.args[0]\n",
        "\n",
        "        qkv_act_observer = get_observer_module(qkv_observer_node, model)\n",
        "        _, qkv_wet_observer, qkv_weight = get_linear_weight_stat(qkv_linear_node, model)\n",
        "        _, qkv_bias_observer, qkv_bias = get_linear_bias_stat(qkv_linear_node, model)\n",
        "\n",
        "        migrate_scale, recip_migrate_scale = calc_migrate_scale(act_abs_max, wet_abs_max, alpha)\n",
        "        update_tensor_observer(migrate_scale, weight, wet_observer)\n",
        "        update_tensor_observer(recip_migrate_scale, None, act_observer)\n",
        "        update_tensor_observer(recip_migrate_scale, None, qkv_act_observer)\n",
        "        update_qkv_param_observer(recip_migrate_scale, qkv_weight, qkv_bias, qkv_wet_observer, qkv_bias_observer)\n",
        "\n",
        "    def smooth_mlp_fc1_linear(node: Node, model: GraphModule, alpha: float = 0.5) -> None:\n",
        "        (wet_abs_max, wet_observer, weight), (act_abs_max, act_observer) = get_weight_activation_stats(node, model)\n",
        "        observer_node = node.args[0]\n",
        "        layernorm_node = observer_node.args[0]\n",
        "        \n",
        "        assert_check_node_layernorm(layernorm_node)\n",
        "        layernorm_scale, layernorm_shift = get_layernorm_scale_shift(layernorm_node, model)\n",
        "\n",
        "        migrate_scale, recip_migrate_scale = calc_migrate_scale(act_abs_max, wet_abs_max, alpha)\n",
        "        update_tensor_observer(migrate_scale, weight, wet_observer)\n",
        "        update_tensor_observer(recip_migrate_scale, None, act_observer)\n",
        "        update_tensor_observer(recip_migrate_scale, layernorm_scale, None)\n",
        "        update_tensor_observer(recip_migrate_scale, layernorm_shift, None)\n",
        "\n",
        "    def smooth_mlp_fc2_linear(node: Node, model: GraphModule, alpha: float = 0.5) -> None:\n",
        "        (wet_abs_max, wet_observer, weight), (act_abs_max, act_observer) = get_weight_activation_stats(node, model)\n",
        "        observer_node = node.args[0]\n",
        "        pre_observer_node = trace_to_prev_node(observer_node.args[0], assert_check_node_observer)\n",
        "        pre_linear_node = pre_observer_node.args[0]\n",
        "\n",
        "        pre_act_observer = get_observer_module(pre_observer_node, model)\n",
        "        _, pre_wet_observer, pre_weight = get_linear_weight_stat(pre_linear_node, model)\n",
        "        _, pre_bias_observer, pre_bias = get_linear_bias_stat(pre_linear_node, model)\n",
        "\n",
        "        migrate_scale, recip_migrate_scale = calc_migrate_scale(act_abs_max, wet_abs_max, alpha)\n",
        "        update_tensor_observer(migrate_scale, weight, wet_observer)\n",
        "        update_tensor_observer(recip_migrate_scale, None, act_observer)\n",
        "        update_tensor_observer(recip_migrate_scale, pre_weight, pre_wet_observer)\n",
        "        update_tensor_observer(recip_migrate_scale, pre_bias, pre_bias_observer)\n",
        "        update_tensor_observer(recip_migrate_scale, None, pre_act_observer)\n",
        "\n",
        "    def smooth_head_linear(node: Node, model: GraphModule, alpha: float = 0.5) -> None:\n",
        "        (wet_abs_max, wet_observer, weight), (act_abs_max, act_observer) = get_weight_activation_stats(node, model)\n",
        "        layernorm_node = trace_to_prev_node(node, assert_check_node_layernorm)\n",
        "\n",
        "        assert_check_node_layernorm(layernorm_node)\n",
        "        layernorm_scale, layernorm_shift = get_layernorm_scale_shift(layernorm_node, model)\n",
        "\n",
        "        migrate_scale, recip_migrate_scale = calc_migrate_scale(act_abs_max, wet_abs_max, alpha)\n",
        "        update_tensor_observer(migrate_scale, weight, wet_observer)\n",
        "        update_tensor_observer(recip_migrate_scale, None, act_observer)\n",
        "        update_tensor_observer(recip_migrate_scale, layernorm_scale, None)\n",
        "        update_tensor_observer(recip_migrate_scale, layernorm_shift, None)\n",
        "    \n",
        "    ########################################## [SmoothQuant] ######################################################\n",
        "    for node in prepared_model.graph.nodes:\n",
        "        if node.op != \"call_function\":\n",
        "            continue\n",
        "        if node.target != torch.ops.aten.linear.default:\n",
        "            continue\n",
        "        \n",
        "        if is_print_info:\n",
        "            print(\"-\" * 50)\n",
        "            print_node(node)\n",
        "\n",
        "        linear_type = get_linear_type(node)\n",
        "        if linear_type == \"attn_qkv\":\n",
        "            smooth_attn_qkv_linear(node, prepared_model, alpha)\n",
        "        elif linear_type == \"attn_proj\":\n",
        "            smooth_attn_proj_linear(node, prepared_model, alpha)\n",
        "        elif linear_type == \"mlp_fc1\":\n",
        "            smooth_mlp_fc1_linear(node, prepared_model, alpha)\n",
        "        elif linear_type == \"mlp_fc2\":\n",
        "            smooth_mlp_fc2_linear(node, prepared_model, alpha)\n",
        "        elif linear_type == \"head\":\n",
        "            smooth_head_linear(node, prepared_model, alpha)\n",
        "        else:\n",
        "            raise ValueError(f\"Invalid linear type: [{linear_type}]\")\n",
        "    \n",
        "    prepared_model.recompile()\n"
      ]
    },
    {
      "cell_type": "code",
      "execution_count": 69,
      "metadata": {},
      "outputs": [],
      "source": [
        "def prepare_deits_model_dataset(\n",
        "    is_qat = False,\n",
        "    batch_size = 128,\n",
        "    ignore_list = [\"norm\"]\n",
        "):\n",
        "    train_loader, test_loader, _ = prepare_data(batch_size)\n",
        "    model: VisionTransformer = torch.load('0.9099_deit3_small_patch16_224.pth', map_location='cpu')\n",
        "    prepared_model = prepare_quant_model(model, batch_size, ignore_list, is_qat).cpu()\n",
        "    return (model, prepared_model), (train_loader, test_loader)\n",
        "\n",
        "def convert_export_save_program(prepared_model: GraphModule, filename: str) -> tuple[GraphModule, ExportedProgram]:\n",
        "    prepared_model = copy.deepcopy(prepared_model)\n",
        "    torch.ao.quantization.move_exported_model_to_eval(prepared_model)\n",
        "    converted_model = convert_pt2e(prepared_model)\n",
        "    exported_program = torch.export.export(converted_model, (torch.rand(1, 3, 224, 224),))\n",
        "    torch.export.save(exported_program, filename)\n",
        "    return converted_model, exported_program"
      ]
    },
    {
      "cell_type": "code",
      "execution_count": 72,
      "metadata": {},
      "outputs": [
        {
          "name": "stdout",
          "output_type": "stream",
          "text": [
            "Files already downloaded and verified\n",
            "Files already downloaded and verified\n",
            "annotating for static quantization\n"
          ]
        }
      ],
      "source": [
        "(model, prepared_model), (train_loader, test_loader) = prepare_deits_model_dataset(is_qat=True)\n",
        "calibrate(prepared_model, train_loader)\n",
        "smooth_quant(prepared_model)"
      ]
    },
    {
      "cell_type": "code",
      "execution_count": 73,
      "metadata": {},
      "outputs": [
        {
          "name": "stdout",
          "output_type": "stream",
          "text": [
            "--------------------------------------------------\n",
            "Epoch 1: (lr = 0.0001)\n"
          ]
        },
        {
          "name": "stderr",
          "output_type": "stream",
          "text": [
            "  0%|          | 0/390 [00:00<?, ?it/s]/home/pairlab/anaconda3/envs/EdgeAI/lib/python3.11/site-packages/torch/ao/quantization/fake_quantize.py:353: UserWarning: _aminmax is deprecated as of PyTorch 1.11 and will be removed in a future release. Use aminmax instead. This warning will only appear once per process. (Triggered internally at ../aten/src/ATen/native/ReduceAllOps.cpp:71.)\n",
            "  return torch.fused_moving_avg_obs_fake_quant(\n",
            "100%|██████████| 390/390 [02:19<00:00,  2.80it/s]\n"
          ]
        },
        {
          "name": "stdout",
          "output_type": "stream",
          "text": [
            "Saving and Scoring ... (epoch=1)\n",
            "Files already downloaded and verified\n",
            "Files already downloaded and verified\n"
          ]
        },
        {
          "name": "stderr",
          "output_type": "stream",
          "text": [
            "100%|██████████| 500/500 [00:27<00:00, 18.45it/s]\n"
          ]
        },
        {
          "name": "stdout",
          "output_type": "stream",
          "text": [
            "Accuracy of the model on the test images: 77.0%\n",
            "Model Size: 21.94 MB\n",
            "Accuracy: 77.00%\n",
            "Execution Time: 27.10 s\n",
            "Model Score: 20.00\n",
            "--------------------------------------------------\n",
            "Epoch 2: (lr = 0.0001)\n"
          ]
        },
        {
          "name": "stderr",
          "output_type": "stream",
          "text": [
            "100%|██████████| 390/390 [02:18<00:00,  2.81it/s]\n"
          ]
        },
        {
          "name": "stdout",
          "output_type": "stream",
          "text": [
            "Saving and Scoring ... (epoch=2)\n",
            "Files already downloaded and verified\n",
            "Files already downloaded and verified\n"
          ]
        },
        {
          "name": "stderr",
          "output_type": "stream",
          "text": [
            "100%|██████████| 500/500 [00:27<00:00, 18.36it/s]\n"
          ]
        },
        {
          "name": "stdout",
          "output_type": "stream",
          "text": [
            "Accuracy of the model on the test images: 82.8%\n",
            "Model Size: 21.94 MB\n",
            "Accuracy: 82.80%\n",
            "Execution Time: 27.23 s\n",
            "Model Score: 20.00\n",
            "--------------------------------------------------\n",
            "Epoch 3: (lr = 0.0001)\n"
          ]
        },
        {
          "name": "stderr",
          "output_type": "stream",
          "text": [
            "100%|██████████| 390/390 [02:18<00:00,  2.82it/s]\n"
          ]
        },
        {
          "name": "stdout",
          "output_type": "stream",
          "text": [
            "Saving and Scoring ... (epoch=3)\n",
            "Files already downloaded and verified\n",
            "Files already downloaded and verified\n"
          ]
        },
        {
          "name": "stderr",
          "output_type": "stream",
          "text": [
            "100%|██████████| 500/500 [00:27<00:00, 18.51it/s]\n"
          ]
        },
        {
          "name": "stdout",
          "output_type": "stream",
          "text": [
            "Accuracy of the model on the test images: 85.0%\n",
            "Model Size: 21.94 MB\n",
            "Accuracy: 85.00%\n",
            "Execution Time: 27.02 s\n",
            "Model Score: 20.00\n",
            "--------------------------------------------------\n",
            "Epoch 4: (lr = 0.0001)\n"
          ]
        },
        {
          "name": "stderr",
          "output_type": "stream",
          "text": [
            "100%|██████████| 390/390 [02:18<00:00,  2.81it/s]\n"
          ]
        },
        {
          "name": "stdout",
          "output_type": "stream",
          "text": [
            "Saving and Scoring ... (epoch=4)\n",
            "Files already downloaded and verified\n",
            "Files already downloaded and verified\n"
          ]
        },
        {
          "name": "stderr",
          "output_type": "stream",
          "text": [
            "100%|██████████| 500/500 [00:27<00:00, 18.31it/s]\n"
          ]
        },
        {
          "name": "stdout",
          "output_type": "stream",
          "text": [
            "Accuracy of the model on the test images: 86.6%\n",
            "Model Size: 21.94 MB\n",
            "Accuracy: 86.60%\n",
            "Execution Time: 27.30 s\n",
            "Model Score: 30.00\n",
            "--------------------------------------------------\n",
            "Epoch 5: (lr = 0.0001)\n"
          ]
        },
        {
          "name": "stderr",
          "output_type": "stream",
          "text": [
            "100%|██████████| 390/390 [02:18<00:00,  2.81it/s]\n"
          ]
        },
        {
          "name": "stdout",
          "output_type": "stream",
          "text": [
            "Saving and Scoring ... (epoch=5)\n",
            "Files already downloaded and verified\n",
            "Files already downloaded and verified\n"
          ]
        },
        {
          "name": "stderr",
          "output_type": "stream",
          "text": [
            "100%|██████████| 500/500 [00:27<00:00, 18.41it/s]\n"
          ]
        },
        {
          "name": "stdout",
          "output_type": "stream",
          "text": [
            "Accuracy of the model on the test images: 86.6%\n",
            "Model Size: 21.94 MB\n",
            "Accuracy: 86.60%\n",
            "Execution Time: 27.16 s\n",
            "Model Score: 30.00\n",
            "--------------------------------------------------\n",
            "Epoch 6: (lr = 0.0001)\n"
          ]
        },
        {
          "name": "stderr",
          "output_type": "stream",
          "text": [
            "100%|██████████| 390/390 [02:18<00:00,  2.81it/s]\n"
          ]
        },
        {
          "name": "stdout",
          "output_type": "stream",
          "text": [
            "Disabling observer for subseq epochs ... (epoch=6)\n",
            "Saving and Scoring ... (epoch=6)\n",
            "Files already downloaded and verified\n",
            "Files already downloaded and verified\n"
          ]
        },
        {
          "name": "stderr",
          "output_type": "stream",
          "text": [
            "100%|██████████| 500/500 [00:27<00:00, 18.25it/s]\n"
          ]
        },
        {
          "name": "stdout",
          "output_type": "stream",
          "text": [
            "Accuracy of the model on the test images: 87.2%\n",
            "Model Size: 21.94 MB\n",
            "Accuracy: 87.20%\n",
            "Execution Time: 27.40 s\n",
            "Model Score: 32.00\n",
            "--------------------------------------------------\n",
            "Epoch 7: (lr = 0.0001)\n"
          ]
        },
        {
          "name": "stderr",
          "output_type": "stream",
          "text": [
            "100%|██████████| 390/390 [02:18<00:00,  2.81it/s]\n"
          ]
        },
        {
          "name": "stdout",
          "output_type": "stream",
          "text": [
            "Disabling observer for subseq epochs ... (epoch=7)\n",
            "Saving and Scoring ... (epoch=7)\n",
            "Files already downloaded and verified\n",
            "Files already downloaded and verified\n"
          ]
        },
        {
          "name": "stderr",
          "output_type": "stream",
          "text": [
            "100%|██████████| 500/500 [00:27<00:00, 18.11it/s]\n"
          ]
        },
        {
          "name": "stdout",
          "output_type": "stream",
          "text": [
            "Accuracy of the model on the test images: 86.2%\n",
            "Model Size: 21.94 MB\n",
            "Accuracy: 86.20%\n",
            "Execution Time: 27.61 s\n",
            "Model Score: 30.00\n",
            "--------------------------------------------------\n",
            "Epoch 8: (lr = 0.0001)\n"
          ]
        },
        {
          "name": "stderr",
          "output_type": "stream",
          "text": [
            "100%|██████████| 390/390 [02:18<00:00,  2.81it/s]\n"
          ]
        },
        {
          "name": "stdout",
          "output_type": "stream",
          "text": [
            "Disabling observer for subseq epochs ... (epoch=8)\n",
            "Saving and Scoring ... (epoch=8)\n",
            "Files already downloaded and verified\n",
            "Files already downloaded and verified\n"
          ]
        },
        {
          "name": "stderr",
          "output_type": "stream",
          "text": [
            "100%|██████████| 500/500 [00:27<00:00, 18.28it/s]\n"
          ]
        },
        {
          "name": "stdout",
          "output_type": "stream",
          "text": [
            "Accuracy of the model on the test images: 88.2%\n",
            "Model Size: 21.94 MB\n",
            "Accuracy: 88.20%\n",
            "Execution Time: 27.36 s\n",
            "Model Score: 34.00\n",
            "--------------------------------------------------\n",
            "Epoch 9: (lr = 0.0001)\n"
          ]
        },
        {
          "name": "stderr",
          "output_type": "stream",
          "text": [
            "100%|██████████| 390/390 [02:18<00:00,  2.81it/s]\n"
          ]
        },
        {
          "name": "stdout",
          "output_type": "stream",
          "text": [
            "Disabling observer for subseq epochs ... (epoch=9)\n",
            "Saving and Scoring ... (epoch=9)\n",
            "Files already downloaded and verified\n",
            "Files already downloaded and verified\n"
          ]
        },
        {
          "name": "stderr",
          "output_type": "stream",
          "text": [
            "100%|██████████| 500/500 [00:27<00:00, 18.19it/s]\n"
          ]
        },
        {
          "name": "stdout",
          "output_type": "stream",
          "text": [
            "Accuracy of the model on the test images: 88.2%\n",
            "Model Size: 21.94 MB\n",
            "Accuracy: 88.20%\n",
            "Execution Time: 27.49 s\n",
            "Model Score: 34.00\n",
            "--------------------------------------------------\n",
            "Epoch 10: (lr = 0.0001)\n"
          ]
        },
        {
          "name": "stderr",
          "output_type": "stream",
          "text": [
            "100%|██████████| 390/390 [02:18<00:00,  2.81it/s]\n"
          ]
        },
        {
          "name": "stdout",
          "output_type": "stream",
          "text": [
            "Disabling observer for subseq epochs ... (epoch=10)\n",
            "Saving and Scoring ... (epoch=10)\n",
            "Files already downloaded and verified\n",
            "Files already downloaded and verified\n"
          ]
        },
        {
          "name": "stderr",
          "output_type": "stream",
          "text": [
            "100%|██████████| 500/500 [00:27<00:00, 18.22it/s]\n"
          ]
        },
        {
          "name": "stdout",
          "output_type": "stream",
          "text": [
            "Accuracy of the model on the test images: 86.4%\n",
            "Model Size: 21.94 MB\n",
            "Accuracy: 86.40%\n",
            "Execution Time: 27.44 s\n",
            "Model Score: 30.00\n",
            "--------------------------------------------------\n",
            "Epoch 11: (lr = 0.0001)\n"
          ]
        },
        {
          "name": "stderr",
          "output_type": "stream",
          "text": [
            "100%|██████████| 390/390 [02:18<00:00,  2.81it/s]\n"
          ]
        },
        {
          "name": "stdout",
          "output_type": "stream",
          "text": [
            "Disabling observer for subseq epochs ... (epoch=11)\n",
            "Saving and Scoring ... (epoch=11)\n",
            "Files already downloaded and verified\n",
            "Files already downloaded and verified\n"
          ]
        },
        {
          "name": "stderr",
          "output_type": "stream",
          "text": [
            "100%|██████████| 500/500 [00:27<00:00, 18.10it/s]\n"
          ]
        },
        {
          "name": "stdout",
          "output_type": "stream",
          "text": [
            "Accuracy of the model on the test images: 87.8%\n",
            "Model Size: 21.94 MB\n",
            "Accuracy: 87.80%\n",
            "Execution Time: 27.63 s\n",
            "Model Score: 32.00\n",
            "--------------------------------------------------\n",
            "Epoch 12: (lr = 0.0001)\n"
          ]
        },
        {
          "name": "stderr",
          "output_type": "stream",
          "text": [
            "100%|██████████| 390/390 [02:18<00:00,  2.81it/s]\n"
          ]
        },
        {
          "name": "stdout",
          "output_type": "stream",
          "text": [
            "Disabling observer for subseq epochs ... (epoch=12)\n",
            "Saving and Scoring ... (epoch=12)\n",
            "Files already downloaded and verified\n",
            "Files already downloaded and verified\n"
          ]
        },
        {
          "name": "stderr",
          "output_type": "stream",
          "text": [
            "100%|██████████| 500/500 [00:27<00:00, 17.96it/s]\n"
          ]
        },
        {
          "name": "stdout",
          "output_type": "stream",
          "text": [
            "Accuracy of the model on the test images: 88.8%\n",
            "Model Size: 21.94 MB\n",
            "Accuracy: 88.80%\n",
            "Execution Time: 27.84 s\n",
            "Model Score: 34.00\n",
            "--------------------------------------------------\n",
            "Epoch 13: (lr = 0.0001)\n"
          ]
        },
        {
          "name": "stderr",
          "output_type": "stream",
          "text": [
            "100%|██████████| 390/390 [02:18<00:00,  2.81it/s]\n"
          ]
        },
        {
          "name": "stdout",
          "output_type": "stream",
          "text": [
            "Disabling observer for subseq epochs ... (epoch=13)\n",
            "Saving and Scoring ... (epoch=13)\n",
            "Files already downloaded and verified\n",
            "Files already downloaded and verified\n"
          ]
        },
        {
          "name": "stderr",
          "output_type": "stream",
          "text": [
            "100%|██████████| 500/500 [00:27<00:00, 17.89it/s]\n"
          ]
        },
        {
          "name": "stdout",
          "output_type": "stream",
          "text": [
            "Accuracy of the model on the test images: 89.2%\n",
            "Model Size: 21.94 MB\n",
            "Accuracy: 89.20%\n",
            "Execution Time: 27.96 s\n",
            "Model Score: 36.00\n",
            "--------------------------------------------------\n",
            "Epoch 14: (lr = 0.0001)\n"
          ]
        },
        {
          "name": "stderr",
          "output_type": "stream",
          "text": [
            "100%|██████████| 390/390 [02:18<00:00,  2.81it/s]\n"
          ]
        },
        {
          "name": "stdout",
          "output_type": "stream",
          "text": [
            "Disabling observer for subseq epochs ... (epoch=14)\n",
            "Saving and Scoring ... (epoch=14)\n",
            "Files already downloaded and verified\n",
            "Files already downloaded and verified\n"
          ]
        },
        {
          "name": "stderr",
          "output_type": "stream",
          "text": [
            "100%|██████████| 500/500 [00:27<00:00, 18.24it/s]\n"
          ]
        },
        {
          "name": "stdout",
          "output_type": "stream",
          "text": [
            "Accuracy of the model on the test images: 87.6%\n",
            "Model Size: 21.94 MB\n",
            "Accuracy: 87.60%\n",
            "Execution Time: 27.41 s\n",
            "Model Score: 32.00\n",
            "--------------------------------------------------\n",
            "Epoch 15: (lr = 0.0001)\n"
          ]
        },
        {
          "name": "stderr",
          "output_type": "stream",
          "text": [
            "100%|██████████| 390/390 [02:18<00:00,  2.81it/s]\n"
          ]
        },
        {
          "name": "stdout",
          "output_type": "stream",
          "text": [
            "Disabling observer for subseq epochs ... (epoch=15)\n",
            "Saving and Scoring ... (epoch=15)\n",
            "Files already downloaded and verified\n",
            "Files already downloaded and verified\n"
          ]
        },
        {
          "name": "stderr",
          "output_type": "stream",
          "text": [
            "100%|██████████| 500/500 [00:27<00:00, 18.09it/s]\n"
          ]
        },
        {
          "name": "stdout",
          "output_type": "stream",
          "text": [
            "Accuracy of the model on the test images: 87.2%\n",
            "Model Size: 21.94 MB\n",
            "Accuracy: 87.20%\n",
            "Execution Time: 27.64 s\n",
            "Model Score: 32.00\n",
            "--------------------------------------------------\n",
            "Epoch 16: (lr = 0.0001)\n"
          ]
        },
        {
          "name": "stderr",
          "output_type": "stream",
          "text": [
            "100%|██████████| 390/390 [02:18<00:00,  2.81it/s]\n"
          ]
        },
        {
          "name": "stdout",
          "output_type": "stream",
          "text": [
            "Disabling observer for subseq epochs ... (epoch=16)\n",
            "Saving and Scoring ... (epoch=16)\n",
            "Files already downloaded and verified\n",
            "Files already downloaded and verified\n"
          ]
        },
        {
          "name": "stderr",
          "output_type": "stream",
          "text": [
            "100%|██████████| 500/500 [00:27<00:00, 18.07it/s]\n"
          ]
        },
        {
          "name": "stdout",
          "output_type": "stream",
          "text": [
            "Accuracy of the model on the test images: 87.6%\n",
            "Model Size: 21.94 MB\n",
            "Accuracy: 87.60%\n",
            "Execution Time: 27.67 s\n",
            "Model Score: 32.00\n",
            "--------------------------------------------------\n",
            "Epoch 17: (lr = 0.0001)\n"
          ]
        },
        {
          "name": "stderr",
          "output_type": "stream",
          "text": [
            "100%|██████████| 390/390 [02:18<00:00,  2.81it/s]\n"
          ]
        },
        {
          "name": "stdout",
          "output_type": "stream",
          "text": [
            "Disabling observer for subseq epochs ... (epoch=17)\n",
            "Saving and Scoring ... (epoch=17)\n",
            "Files already downloaded and verified\n",
            "Files already downloaded and verified\n"
          ]
        },
        {
          "name": "stderr",
          "output_type": "stream",
          "text": [
            "100%|██████████| 500/500 [00:27<00:00, 18.26it/s]\n"
          ]
        },
        {
          "name": "stdout",
          "output_type": "stream",
          "text": [
            "Accuracy of the model on the test images: 88.8%\n",
            "Model Size: 21.94 MB\n",
            "Accuracy: 88.80%\n",
            "Execution Time: 27.38 s\n",
            "Model Score: 34.00\n",
            "--------------------------------------------------\n",
            "Epoch 18: (lr = 0.0001)\n"
          ]
        },
        {
          "name": "stderr",
          "output_type": "stream",
          "text": [
            "100%|██████████| 390/390 [02:18<00:00,  2.81it/s]\n"
          ]
        },
        {
          "name": "stdout",
          "output_type": "stream",
          "text": [
            "Disabling observer for subseq epochs ... (epoch=18)\n",
            "Saving and Scoring ... (epoch=18)\n",
            "Files already downloaded and verified\n",
            "Files already downloaded and verified\n"
          ]
        },
        {
          "name": "stderr",
          "output_type": "stream",
          "text": [
            "100%|██████████| 500/500 [00:27<00:00, 18.29it/s]\n"
          ]
        },
        {
          "name": "stdout",
          "output_type": "stream",
          "text": [
            "Accuracy of the model on the test images: 88.8%\n",
            "Model Size: 21.94 MB\n",
            "Accuracy: 88.80%\n",
            "Execution Time: 27.33 s\n",
            "Model Score: 34.00\n",
            "--------------------------------------------------\n",
            "Epoch 19: (lr = 0.0001)\n"
          ]
        },
        {
          "name": "stderr",
          "output_type": "stream",
          "text": [
            "100%|██████████| 390/390 [02:18<00:00,  2.81it/s]\n"
          ]
        },
        {
          "name": "stdout",
          "output_type": "stream",
          "text": [
            "Disabling observer for subseq epochs ... (epoch=19)\n",
            "Saving and Scoring ... (epoch=19)\n",
            "Files already downloaded and verified\n",
            "Files already downloaded and verified\n"
          ]
        },
        {
          "name": "stderr",
          "output_type": "stream",
          "text": [
            "100%|██████████| 500/500 [00:27<00:00, 18.11it/s]\n"
          ]
        },
        {
          "name": "stdout",
          "output_type": "stream",
          "text": [
            "Accuracy of the model on the test images: 89.4%\n",
            "Model Size: 21.94 MB\n",
            "Accuracy: 89.40%\n",
            "Execution Time: 27.62 s\n",
            "Model Score: 36.00\n",
            "--------------------------------------------------\n",
            "Epoch 20: (lr = 0.0001)\n"
          ]
        },
        {
          "name": "stderr",
          "output_type": "stream",
          "text": [
            "100%|██████████| 390/390 [02:18<00:00,  2.81it/s]\n"
          ]
        },
        {
          "name": "stdout",
          "output_type": "stream",
          "text": [
            "Disabling observer for subseq epochs ... (epoch=20)\n",
            "Saving and Scoring ... (epoch=20)\n",
            "Files already downloaded and verified\n",
            "Files already downloaded and verified\n"
          ]
        },
        {
          "name": "stderr",
          "output_type": "stream",
          "text": [
            "100%|██████████| 500/500 [00:27<00:00, 18.07it/s]\n"
          ]
        },
        {
          "name": "stdout",
          "output_type": "stream",
          "text": [
            "Accuracy of the model on the test images: 88.4%\n",
            "Model Size: 21.94 MB\n",
            "Accuracy: 88.40%\n",
            "Execution Time: 27.67 s\n",
            "Model Score: 34.00\n",
            "--------------------------------------------------\n",
            "Epoch 21: (lr = 1e-05)\n"
          ]
        },
        {
          "name": "stderr",
          "output_type": "stream",
          "text": [
            "100%|██████████| 390/390 [02:18<00:00,  2.81it/s]\n"
          ]
        },
        {
          "name": "stdout",
          "output_type": "stream",
          "text": [
            "Disabling observer for subseq epochs ... (epoch=21)\n",
            "Saving and Scoring ... (epoch=21)\n",
            "Files already downloaded and verified\n",
            "Files already downloaded and verified\n"
          ]
        },
        {
          "name": "stderr",
          "output_type": "stream",
          "text": [
            "100%|██████████| 500/500 [00:27<00:00, 18.30it/s]\n"
          ]
        },
        {
          "name": "stdout",
          "output_type": "stream",
          "text": [
            "Accuracy of the model on the test images: 89.2%\n",
            "Model Size: 21.94 MB\n",
            "Accuracy: 89.20%\n",
            "Execution Time: 27.32 s\n",
            "Model Score: 36.00\n",
            "--------------------------------------------------\n",
            "Epoch 22: (lr = 1e-05)\n"
          ]
        },
        {
          "name": "stderr",
          "output_type": "stream",
          "text": [
            "100%|██████████| 390/390 [02:18<00:00,  2.81it/s]\n"
          ]
        },
        {
          "name": "stdout",
          "output_type": "stream",
          "text": [
            "Disabling observer for subseq epochs ... (epoch=22)\n",
            "Saving and Scoring ... (epoch=22)\n",
            "Files already downloaded and verified\n",
            "Files already downloaded and verified\n"
          ]
        },
        {
          "name": "stderr",
          "output_type": "stream",
          "text": [
            "100%|██████████| 500/500 [00:27<00:00, 18.17it/s]\n"
          ]
        },
        {
          "name": "stdout",
          "output_type": "stream",
          "text": [
            "Accuracy of the model on the test images: 90.6%\n",
            "Model Size: 21.94 MB\n",
            "Accuracy: 90.60%\n",
            "Execution Time: 27.52 s\n",
            "Model Score: 38.00\n",
            "--------------------------------------------------\n",
            "Epoch 23: (lr = 1e-05)\n"
          ]
        },
        {
          "name": "stderr",
          "output_type": "stream",
          "text": [
            "100%|██████████| 390/390 [02:18<00:00,  2.81it/s]\n"
          ]
        },
        {
          "name": "stdout",
          "output_type": "stream",
          "text": [
            "Disabling observer for subseq epochs ... (epoch=23)\n",
            "Saving and Scoring ... (epoch=23)\n",
            "Files already downloaded and verified\n",
            "Files already downloaded and verified\n"
          ]
        },
        {
          "name": "stderr",
          "output_type": "stream",
          "text": [
            "100%|██████████| 500/500 [00:27<00:00, 18.31it/s]\n"
          ]
        },
        {
          "name": "stdout",
          "output_type": "stream",
          "text": [
            "Accuracy of the model on the test images: 90.2%\n",
            "Model Size: 21.94 MB\n",
            "Accuracy: 90.20%\n",
            "Execution Time: 27.30 s\n",
            "Model Score: 38.00\n",
            "--------------------------------------------------\n",
            "Epoch 24: (lr = 1e-05)\n"
          ]
        },
        {
          "name": "stderr",
          "output_type": "stream",
          "text": [
            "100%|██████████| 390/390 [02:18<00:00,  2.81it/s]\n"
          ]
        },
        {
          "name": "stdout",
          "output_type": "stream",
          "text": [
            "Disabling observer for subseq epochs ... (epoch=24)\n",
            "Saving and Scoring ... (epoch=24)\n",
            "Files already downloaded and verified\n",
            "Files already downloaded and verified\n"
          ]
        },
        {
          "name": "stderr",
          "output_type": "stream",
          "text": [
            "100%|██████████| 500/500 [00:27<00:00, 18.43it/s]\n"
          ]
        },
        {
          "name": "stdout",
          "output_type": "stream",
          "text": [
            "Accuracy of the model on the test images: 90.4%\n",
            "Model Size: 21.94 MB\n",
            "Accuracy: 90.40%\n",
            "Execution Time: 27.13 s\n",
            "Model Score: 38.00\n",
            "--------------------------------------------------\n",
            "Epoch 25: (lr = 1e-05)\n"
          ]
        },
        {
          "name": "stderr",
          "output_type": "stream",
          "text": [
            "100%|██████████| 390/390 [02:18<00:00,  2.81it/s]\n"
          ]
        },
        {
          "name": "stdout",
          "output_type": "stream",
          "text": [
            "Disabling observer for subseq epochs ... (epoch=25)\n",
            "Saving and Scoring ... (epoch=25)\n",
            "Files already downloaded and verified\n",
            "Files already downloaded and verified\n"
          ]
        },
        {
          "name": "stderr",
          "output_type": "stream",
          "text": [
            "100%|██████████| 500/500 [00:27<00:00, 18.35it/s]\n"
          ]
        },
        {
          "name": "stdout",
          "output_type": "stream",
          "text": [
            "Accuracy of the model on the test images: 90.4%\n",
            "Model Size: 21.94 MB\n",
            "Accuracy: 90.40%\n",
            "Execution Time: 27.26 s\n",
            "Model Score: 38.00\n",
            "--------------------------------------------------\n",
            "Epoch 26: (lr = 1e-05)\n"
          ]
        },
        {
          "name": "stderr",
          "output_type": "stream",
          "text": [
            "100%|██████████| 390/390 [02:18<00:00,  2.81it/s]\n"
          ]
        },
        {
          "name": "stdout",
          "output_type": "stream",
          "text": [
            "Disabling observer for subseq epochs ... (epoch=26)\n",
            "Saving and Scoring ... (epoch=26)\n",
            "Files already downloaded and verified\n",
            "Files already downloaded and verified\n"
          ]
        },
        {
          "name": "stderr",
          "output_type": "stream",
          "text": [
            "100%|██████████| 500/500 [00:27<00:00, 18.08it/s]\n"
          ]
        },
        {
          "name": "stdout",
          "output_type": "stream",
          "text": [
            "Accuracy of the model on the test images: 90.2%\n",
            "Model Size: 21.94 MB\n",
            "Accuracy: 90.20%\n",
            "Execution Time: 27.66 s\n",
            "Model Score: 38.00\n",
            "--------------------------------------------------\n",
            "Epoch 27: (lr = 1e-05)\n"
          ]
        },
        {
          "name": "stderr",
          "output_type": "stream",
          "text": [
            "100%|██████████| 390/390 [02:18<00:00,  2.81it/s]\n"
          ]
        },
        {
          "name": "stdout",
          "output_type": "stream",
          "text": [
            "Disabling observer for subseq epochs ... (epoch=27)\n",
            "Saving and Scoring ... (epoch=27)\n",
            "Files already downloaded and verified\n",
            "Files already downloaded and verified\n"
          ]
        },
        {
          "name": "stderr",
          "output_type": "stream",
          "text": [
            "100%|██████████| 500/500 [00:27<00:00, 18.22it/s]\n"
          ]
        },
        {
          "name": "stdout",
          "output_type": "stream",
          "text": [
            "Accuracy of the model on the test images: 91.8%\n",
            "Model Size: 21.94 MB\n",
            "Accuracy: 91.80%\n",
            "Execution Time: 27.44 s\n",
            "Model Score: 40.00\n",
            "--------------------------------------------------\n",
            "Epoch 28: (lr = 1e-05)\n"
          ]
        },
        {
          "name": "stderr",
          "output_type": "stream",
          "text": [
            "100%|██████████| 390/390 [02:18<00:00,  2.81it/s]\n"
          ]
        },
        {
          "name": "stdout",
          "output_type": "stream",
          "text": [
            "Disabling observer for subseq epochs ... (epoch=28)\n",
            "Saving and Scoring ... (epoch=28)\n",
            "Files already downloaded and verified\n",
            "Files already downloaded and verified\n"
          ]
        },
        {
          "name": "stderr",
          "output_type": "stream",
          "text": [
            "100%|██████████| 500/500 [00:26<00:00, 18.52it/s]\n"
          ]
        },
        {
          "name": "stdout",
          "output_type": "stream",
          "text": [
            "Accuracy of the model on the test images: 90.8%\n",
            "Model Size: 21.94 MB\n",
            "Accuracy: 90.80%\n",
            "Execution Time: 27.00 s\n",
            "Model Score: 38.00\n",
            "--------------------------------------------------\n",
            "Epoch 29: (lr = 1e-05)\n"
          ]
        },
        {
          "name": "stderr",
          "output_type": "stream",
          "text": [
            "100%|██████████| 390/390 [02:18<00:00,  2.81it/s]\n"
          ]
        },
        {
          "name": "stdout",
          "output_type": "stream",
          "text": [
            "Disabling observer for subseq epochs ... (epoch=29)\n",
            "Saving and Scoring ... (epoch=29)\n",
            "Files already downloaded and verified\n",
            "Files already downloaded and verified\n"
          ]
        },
        {
          "name": "stderr",
          "output_type": "stream",
          "text": [
            "100%|██████████| 500/500 [00:27<00:00, 18.29it/s]\n"
          ]
        },
        {
          "name": "stdout",
          "output_type": "stream",
          "text": [
            "Accuracy of the model on the test images: 90.8%\n",
            "Model Size: 21.94 MB\n",
            "Accuracy: 90.80%\n",
            "Execution Time: 27.34 s\n",
            "Model Score: 38.00\n",
            "--------------------------------------------------\n",
            "Epoch 30: (lr = 1e-05)\n"
          ]
        },
        {
          "name": "stderr",
          "output_type": "stream",
          "text": [
            "100%|██████████| 390/390 [02:18<00:00,  2.81it/s]\n"
          ]
        },
        {
          "name": "stdout",
          "output_type": "stream",
          "text": [
            "Disabling observer for subseq epochs ... (epoch=30)\n",
            "Saving and Scoring ... (epoch=30)\n",
            "Files already downloaded and verified\n",
            "Files already downloaded and verified\n"
          ]
        },
        {
          "name": "stderr",
          "output_type": "stream",
          "text": [
            "100%|██████████| 500/500 [00:27<00:00, 17.99it/s]"
          ]
        },
        {
          "name": "stdout",
          "output_type": "stream",
          "text": [
            "Accuracy of the model on the test images: 90.4%\n",
            "Model Size: 21.94 MB\n",
            "Accuracy: 90.40%\n",
            "Execution Time: 27.80 s\n",
            "Model Score: 38.00\n"
          ]
        },
        {
          "name": "stderr",
          "output_type": "stream",
          "text": [
            "\n"
          ]
        }
      ],
      "source": [
        "train_qat(prepared_model)"
      ]
    },
    {
      "cell_type": "code",
      "execution_count": 74,
      "metadata": {},
      "outputs": [
        {
          "name": "stdout",
          "output_type": "stream",
          "text": [
            "--------------------------------------------------\n",
            "Epoch 1: (lr = 1e-05)\n"
          ]
        },
        {
          "name": "stderr",
          "output_type": "stream",
          "text": [
            "100%|██████████| 390/390 [02:18<00:00,  2.82it/s]\n"
          ]
        },
        {
          "name": "stdout",
          "output_type": "stream",
          "text": [
            "Saving and Scoring ... (epoch=1)\n",
            "Files already downloaded and verified\n",
            "Files already downloaded and verified\n"
          ]
        },
        {
          "name": "stderr",
          "output_type": "stream",
          "text": [
            "100%|██████████| 500/500 [00:27<00:00, 18.21it/s]\n"
          ]
        },
        {
          "name": "stdout",
          "output_type": "stream",
          "text": [
            "Accuracy of the model on the test images: 91.2%\n",
            "Model Size: 21.94 MB\n",
            "Accuracy: 91.20%\n",
            "Execution Time: 27.45 s\n",
            "Model Score: 40.00\n",
            "--------------------------------------------------\n",
            "Epoch 2: (lr = 1e-05)\n"
          ]
        },
        {
          "name": "stderr",
          "output_type": "stream",
          "text": [
            "100%|██████████| 390/390 [02:18<00:00,  2.81it/s]\n"
          ]
        },
        {
          "name": "stdout",
          "output_type": "stream",
          "text": [
            "Saving and Scoring ... (epoch=2)\n",
            "Files already downloaded and verified\n",
            "Files already downloaded and verified\n"
          ]
        },
        {
          "name": "stderr",
          "output_type": "stream",
          "text": [
            "100%|██████████| 500/500 [00:27<00:00, 18.15it/s]\n"
          ]
        },
        {
          "name": "stdout",
          "output_type": "stream",
          "text": [
            "Accuracy of the model on the test images: 90.8%\n",
            "Model Size: 21.94 MB\n",
            "Accuracy: 90.80%\n",
            "Execution Time: 27.55 s\n",
            "Model Score: 38.00\n",
            "--------------------------------------------------\n",
            "Epoch 3: (lr = 1e-05)\n"
          ]
        },
        {
          "name": "stderr",
          "output_type": "stream",
          "text": [
            "100%|██████████| 390/390 [02:18<00:00,  2.81it/s]\n"
          ]
        },
        {
          "name": "stdout",
          "output_type": "stream",
          "text": [
            "Saving and Scoring ... (epoch=3)\n",
            "Files already downloaded and verified\n",
            "Files already downloaded and verified\n"
          ]
        },
        {
          "name": "stderr",
          "output_type": "stream",
          "text": [
            "100%|██████████| 500/500 [00:27<00:00, 18.09it/s]\n"
          ]
        },
        {
          "name": "stdout",
          "output_type": "stream",
          "text": [
            "Accuracy of the model on the test images: 90.0%\n",
            "Model Size: 21.94 MB\n",
            "Accuracy: 90.00%\n",
            "Execution Time: 27.64 s\n",
            "Model Score: 38.00\n",
            "--------------------------------------------------\n",
            "Epoch 4: (lr = 1e-05)\n"
          ]
        },
        {
          "name": "stderr",
          "output_type": "stream",
          "text": [
            "100%|██████████| 390/390 [02:18<00:00,  2.81it/s]\n"
          ]
        },
        {
          "name": "stdout",
          "output_type": "stream",
          "text": [
            "Saving and Scoring ... (epoch=4)\n",
            "Files already downloaded and verified\n",
            "Files already downloaded and verified\n"
          ]
        },
        {
          "name": "stderr",
          "output_type": "stream",
          "text": [
            "100%|██████████| 500/500 [00:27<00:00, 18.11it/s]\n"
          ]
        },
        {
          "name": "stdout",
          "output_type": "stream",
          "text": [
            "Accuracy of the model on the test images: 92.4%\n",
            "Model Size: 21.94 MB\n",
            "Accuracy: 92.40%\n",
            "Execution Time: 27.62 s\n",
            "Model Score: 42.00\n",
            "--------------------------------------------------\n",
            "Epoch 5: (lr = 1e-05)\n"
          ]
        },
        {
          "name": "stderr",
          "output_type": "stream",
          "text": [
            "100%|██████████| 390/390 [02:18<00:00,  2.81it/s]\n"
          ]
        },
        {
          "name": "stdout",
          "output_type": "stream",
          "text": [
            "Saving and Scoring ... (epoch=5)\n",
            "Files already downloaded and verified\n",
            "Files already downloaded and verified\n"
          ]
        },
        {
          "name": "stderr",
          "output_type": "stream",
          "text": [
            "100%|██████████| 500/500 [00:27<00:00, 18.22it/s]\n"
          ]
        },
        {
          "name": "stdout",
          "output_type": "stream",
          "text": [
            "Accuracy of the model on the test images: 89.2%\n",
            "Model Size: 21.94 MB\n",
            "Accuracy: 89.20%\n",
            "Execution Time: 27.45 s\n",
            "Model Score: 36.00\n",
            "--------------------------------------------------\n",
            "Epoch 6: (lr = 1e-05)\n"
          ]
        },
        {
          "name": "stderr",
          "output_type": "stream",
          "text": [
            "100%|██████████| 390/390 [02:18<00:00,  2.81it/s]\n"
          ]
        },
        {
          "name": "stdout",
          "output_type": "stream",
          "text": [
            "Disabling observer for subseq epochs ... (epoch=6)\n",
            "Saving and Scoring ... (epoch=6)\n",
            "Files already downloaded and verified\n",
            "Files already downloaded and verified\n"
          ]
        },
        {
          "name": "stderr",
          "output_type": "stream",
          "text": [
            "100%|██████████| 500/500 [00:27<00:00, 18.50it/s]\n"
          ]
        },
        {
          "name": "stdout",
          "output_type": "stream",
          "text": [
            "Accuracy of the model on the test images: 91.0%\n",
            "Model Size: 21.94 MB\n",
            "Accuracy: 91.00%\n",
            "Execution Time: 27.03 s\n",
            "Model Score: 40.00\n",
            "--------------------------------------------------\n",
            "Epoch 7: (lr = 1e-05)\n"
          ]
        },
        {
          "name": "stderr",
          "output_type": "stream",
          "text": [
            "100%|██████████| 390/390 [02:18<00:00,  2.81it/s]\n"
          ]
        },
        {
          "name": "stdout",
          "output_type": "stream",
          "text": [
            "Disabling observer for subseq epochs ... (epoch=7)\n",
            "Saving and Scoring ... (epoch=7)\n",
            "Files already downloaded and verified\n",
            "Files already downloaded and verified\n"
          ]
        },
        {
          "name": "stderr",
          "output_type": "stream",
          "text": [
            "100%|██████████| 500/500 [00:27<00:00, 18.25it/s]\n"
          ]
        },
        {
          "name": "stdout",
          "output_type": "stream",
          "text": [
            "Accuracy of the model on the test images: 91.4%\n",
            "Model Size: 21.94 MB\n",
            "Accuracy: 91.40%\n",
            "Execution Time: 27.40 s\n",
            "Model Score: 40.00\n",
            "--------------------------------------------------\n",
            "Epoch 8: (lr = 1e-05)\n"
          ]
        },
        {
          "name": "stderr",
          "output_type": "stream",
          "text": [
            "100%|██████████| 390/390 [02:18<00:00,  2.81it/s]\n"
          ]
        },
        {
          "name": "stdout",
          "output_type": "stream",
          "text": [
            "Disabling observer for subseq epochs ... (epoch=8)\n",
            "Saving and Scoring ... (epoch=8)\n",
            "Files already downloaded and verified\n",
            "Files already downloaded and verified\n"
          ]
        },
        {
          "name": "stderr",
          "output_type": "stream",
          "text": [
            "100%|██████████| 500/500 [00:27<00:00, 18.14it/s]\n"
          ]
        },
        {
          "name": "stdout",
          "output_type": "stream",
          "text": [
            "Accuracy of the model on the test images: 90.8%\n",
            "Model Size: 21.94 MB\n",
            "Accuracy: 90.80%\n",
            "Execution Time: 27.57 s\n",
            "Model Score: 38.00\n",
            "--------------------------------------------------\n",
            "Epoch 9: (lr = 1e-05)\n"
          ]
        },
        {
          "name": "stderr",
          "output_type": "stream",
          "text": [
            "100%|██████████| 390/390 [02:18<00:00,  2.81it/s]\n"
          ]
        },
        {
          "name": "stdout",
          "output_type": "stream",
          "text": [
            "Disabling observer for subseq epochs ... (epoch=9)\n",
            "Saving and Scoring ... (epoch=9)\n",
            "Files already downloaded and verified\n",
            "Files already downloaded and verified\n"
          ]
        },
        {
          "name": "stderr",
          "output_type": "stream",
          "text": [
            "100%|██████████| 500/500 [00:27<00:00, 18.11it/s]\n"
          ]
        },
        {
          "name": "stdout",
          "output_type": "stream",
          "text": [
            "Accuracy of the model on the test images: 90.8%\n",
            "Model Size: 21.94 MB\n",
            "Accuracy: 90.80%\n",
            "Execution Time: 27.61 s\n",
            "Model Score: 38.00\n",
            "--------------------------------------------------\n",
            "Epoch 10: (lr = 1e-05)\n"
          ]
        },
        {
          "name": "stderr",
          "output_type": "stream",
          "text": [
            "100%|██████████| 390/390 [02:18<00:00,  2.81it/s]\n"
          ]
        },
        {
          "name": "stdout",
          "output_type": "stream",
          "text": [
            "Disabling observer for subseq epochs ... (epoch=10)\n",
            "Saving and Scoring ... (epoch=10)\n",
            "Files already downloaded and verified\n",
            "Files already downloaded and verified\n"
          ]
        },
        {
          "name": "stderr",
          "output_type": "stream",
          "text": [
            "100%|██████████| 500/500 [00:27<00:00, 18.10it/s]\n"
          ]
        },
        {
          "name": "stdout",
          "output_type": "stream",
          "text": [
            "Accuracy of the model on the test images: 90.6%\n",
            "Model Size: 21.94 MB\n",
            "Accuracy: 90.60%\n",
            "Execution Time: 27.63 s\n",
            "Model Score: 38.00\n",
            "--------------------------------------------------\n",
            "Epoch 11: (lr = 1e-05)\n"
          ]
        },
        {
          "name": "stderr",
          "output_type": "stream",
          "text": [
            "100%|██████████| 390/390 [02:18<00:00,  2.81it/s]\n"
          ]
        },
        {
          "name": "stdout",
          "output_type": "stream",
          "text": [
            "Disabling observer for subseq epochs ... (epoch=11)\n",
            "Saving and Scoring ... (epoch=11)\n",
            "Files already downloaded and verified\n",
            "Files already downloaded and verified\n"
          ]
        },
        {
          "name": "stderr",
          "output_type": "stream",
          "text": [
            "100%|██████████| 500/500 [00:27<00:00, 18.07it/s]\n"
          ]
        },
        {
          "name": "stdout",
          "output_type": "stream",
          "text": [
            "Accuracy of the model on the test images: 91.8%\n",
            "Model Size: 21.94 MB\n",
            "Accuracy: 91.80%\n",
            "Execution Time: 27.68 s\n",
            "Model Score: 40.00\n",
            "--------------------------------------------------\n",
            "Epoch 12: (lr = 1e-05)\n"
          ]
        },
        {
          "name": "stderr",
          "output_type": "stream",
          "text": [
            "100%|██████████| 390/390 [02:18<00:00,  2.81it/s]\n"
          ]
        },
        {
          "name": "stdout",
          "output_type": "stream",
          "text": [
            "Disabling observer for subseq epochs ... (epoch=12)\n",
            "Saving and Scoring ... (epoch=12)\n",
            "Files already downloaded and verified\n",
            "Files already downloaded and verified\n"
          ]
        },
        {
          "name": "stderr",
          "output_type": "stream",
          "text": [
            "100%|██████████| 500/500 [00:27<00:00, 18.38it/s]\n"
          ]
        },
        {
          "name": "stdout",
          "output_type": "stream",
          "text": [
            "Accuracy of the model on the test images: 90.0%\n",
            "Model Size: 21.94 MB\n",
            "Accuracy: 90.00%\n",
            "Execution Time: 27.21 s\n",
            "Model Score: 38.00\n",
            "--------------------------------------------------\n",
            "Epoch 13: (lr = 1e-05)\n"
          ]
        },
        {
          "name": "stderr",
          "output_type": "stream",
          "text": [
            "100%|██████████| 390/390 [02:18<00:00,  2.81it/s]\n"
          ]
        },
        {
          "name": "stdout",
          "output_type": "stream",
          "text": [
            "Disabling observer for subseq epochs ... (epoch=13)\n",
            "Saving and Scoring ... (epoch=13)\n",
            "Files already downloaded and verified\n",
            "Files already downloaded and verified\n"
          ]
        },
        {
          "name": "stderr",
          "output_type": "stream",
          "text": [
            "100%|██████████| 500/500 [00:27<00:00, 18.29it/s]\n"
          ]
        },
        {
          "name": "stdout",
          "output_type": "stream",
          "text": [
            "Accuracy of the model on the test images: 90.8%\n",
            "Model Size: 21.94 MB\n",
            "Accuracy: 90.80%\n",
            "Execution Time: 27.34 s\n",
            "Model Score: 38.00\n",
            "--------------------------------------------------\n",
            "Epoch 14: (lr = 1e-05)\n"
          ]
        },
        {
          "name": "stderr",
          "output_type": "stream",
          "text": [
            "100%|██████████| 390/390 [02:18<00:00,  2.81it/s]\n"
          ]
        },
        {
          "name": "stdout",
          "output_type": "stream",
          "text": [
            "Disabling observer for subseq epochs ... (epoch=14)\n",
            "Saving and Scoring ... (epoch=14)\n",
            "Files already downloaded and verified\n",
            "Files already downloaded and verified\n"
          ]
        },
        {
          "name": "stderr",
          "output_type": "stream",
          "text": [
            "100%|██████████| 500/500 [00:27<00:00, 18.22it/s]\n"
          ]
        },
        {
          "name": "stdout",
          "output_type": "stream",
          "text": [
            "Accuracy of the model on the test images: 90.4%\n",
            "Model Size: 21.94 MB\n",
            "Accuracy: 90.40%\n",
            "Execution Time: 27.45 s\n",
            "Model Score: 38.00\n",
            "--------------------------------------------------\n",
            "Epoch 15: (lr = 1e-05)\n"
          ]
        },
        {
          "name": "stderr",
          "output_type": "stream",
          "text": [
            "100%|██████████| 390/390 [02:18<00:00,  2.81it/s]\n"
          ]
        },
        {
          "name": "stdout",
          "output_type": "stream",
          "text": [
            "Disabling observer for subseq epochs ... (epoch=15)\n",
            "Saving and Scoring ... (epoch=15)\n",
            "Files already downloaded and verified\n",
            "Files already downloaded and verified\n"
          ]
        },
        {
          "name": "stderr",
          "output_type": "stream",
          "text": [
            "100%|██████████| 500/500 [00:27<00:00, 18.25it/s]\n"
          ]
        },
        {
          "name": "stdout",
          "output_type": "stream",
          "text": [
            "Accuracy of the model on the test images: 89.8%\n",
            "Model Size: 21.94 MB\n",
            "Accuracy: 89.80%\n",
            "Execution Time: 27.40 s\n",
            "Model Score: 36.00\n",
            "--------------------------------------------------\n",
            "Epoch 16: (lr = 1e-05)\n"
          ]
        },
        {
          "name": "stderr",
          "output_type": "stream",
          "text": [
            "100%|██████████| 390/390 [02:18<00:00,  2.81it/s]\n"
          ]
        },
        {
          "name": "stdout",
          "output_type": "stream",
          "text": [
            "Disabling observer for subseq epochs ... (epoch=16)\n",
            "Saving and Scoring ... (epoch=16)\n",
            "Files already downloaded and verified\n",
            "Files already downloaded and verified\n"
          ]
        },
        {
          "name": "stderr",
          "output_type": "stream",
          "text": [
            "100%|██████████| 500/500 [00:27<00:00, 18.16it/s]\n"
          ]
        },
        {
          "name": "stdout",
          "output_type": "stream",
          "text": [
            "Accuracy of the model on the test images: 90.2%\n",
            "Model Size: 21.94 MB\n",
            "Accuracy: 90.20%\n",
            "Execution Time: 27.54 s\n",
            "Model Score: 38.00\n",
            "--------------------------------------------------\n",
            "Epoch 17: (lr = 1e-05)\n"
          ]
        },
        {
          "name": "stderr",
          "output_type": "stream",
          "text": [
            "100%|██████████| 390/390 [02:19<00:00,  2.81it/s]\n"
          ]
        },
        {
          "name": "stdout",
          "output_type": "stream",
          "text": [
            "Disabling observer for subseq epochs ... (epoch=17)\n",
            "Saving and Scoring ... (epoch=17)\n",
            "Files already downloaded and verified\n",
            "Files already downloaded and verified\n"
          ]
        },
        {
          "name": "stderr",
          "output_type": "stream",
          "text": [
            "100%|██████████| 500/500 [00:27<00:00, 18.35it/s]\n"
          ]
        },
        {
          "name": "stdout",
          "output_type": "stream",
          "text": [
            "Accuracy of the model on the test images: 91.2%\n",
            "Model Size: 21.94 MB\n",
            "Accuracy: 91.20%\n",
            "Execution Time: 27.25 s\n",
            "Model Score: 40.00\n",
            "--------------------------------------------------\n",
            "Epoch 18: (lr = 1e-05)\n"
          ]
        },
        {
          "name": "stderr",
          "output_type": "stream",
          "text": [
            "100%|██████████| 390/390 [02:18<00:00,  2.81it/s]\n"
          ]
        },
        {
          "name": "stdout",
          "output_type": "stream",
          "text": [
            "Disabling observer for subseq epochs ... (epoch=18)\n",
            "Saving and Scoring ... (epoch=18)\n",
            "Files already downloaded and verified\n",
            "Files already downloaded and verified\n"
          ]
        },
        {
          "name": "stderr",
          "output_type": "stream",
          "text": [
            "100%|██████████| 500/500 [00:27<00:00, 18.18it/s]\n"
          ]
        },
        {
          "name": "stdout",
          "output_type": "stream",
          "text": [
            "Accuracy of the model on the test images: 91.2%\n",
            "Model Size: 21.94 MB\n",
            "Accuracy: 91.20%\n",
            "Execution Time: 27.51 s\n",
            "Model Score: 40.00\n",
            "--------------------------------------------------\n",
            "Epoch 19: (lr = 1e-05)\n"
          ]
        },
        {
          "name": "stderr",
          "output_type": "stream",
          "text": [
            "100%|██████████| 390/390 [02:18<00:00,  2.81it/s]\n"
          ]
        },
        {
          "name": "stdout",
          "output_type": "stream",
          "text": [
            "Disabling observer for subseq epochs ... (epoch=19)\n",
            "Saving and Scoring ... (epoch=19)\n",
            "Files already downloaded and verified\n",
            "Files already downloaded and verified\n"
          ]
        },
        {
          "name": "stderr",
          "output_type": "stream",
          "text": [
            "100%|██████████| 500/500 [00:27<00:00, 18.28it/s]\n"
          ]
        },
        {
          "name": "stdout",
          "output_type": "stream",
          "text": [
            "Accuracy of the model on the test images: 91.6%\n",
            "Model Size: 21.94 MB\n",
            "Accuracy: 91.60%\n",
            "Execution Time: 27.35 s\n",
            "Model Score: 40.00\n",
            "--------------------------------------------------\n",
            "Epoch 20: (lr = 1e-05)\n"
          ]
        },
        {
          "name": "stderr",
          "output_type": "stream",
          "text": [
            "100%|██████████| 390/390 [02:18<00:00,  2.81it/s]\n"
          ]
        },
        {
          "name": "stdout",
          "output_type": "stream",
          "text": [
            "Disabling observer for subseq epochs ... (epoch=20)\n",
            "Saving and Scoring ... (epoch=20)\n",
            "Files already downloaded and verified\n",
            "Files already downloaded and verified\n"
          ]
        },
        {
          "name": "stderr",
          "output_type": "stream",
          "text": [
            "100%|██████████| 500/500 [00:27<00:00, 18.14it/s]\n"
          ]
        },
        {
          "name": "stdout",
          "output_type": "stream",
          "text": [
            "Accuracy of the model on the test images: 90.4%\n",
            "Model Size: 21.94 MB\n",
            "Accuracy: 90.40%\n",
            "Execution Time: 27.57 s\n",
            "Model Score: 38.00\n",
            "--------------------------------------------------\n",
            "Epoch 21: (lr = 1.0000000000000002e-06)\n"
          ]
        },
        {
          "name": "stderr",
          "output_type": "stream",
          "text": [
            "100%|██████████| 390/390 [02:18<00:00,  2.81it/s]\n"
          ]
        },
        {
          "name": "stdout",
          "output_type": "stream",
          "text": [
            "Disabling observer for subseq epochs ... (epoch=21)\n",
            "Saving and Scoring ... (epoch=21)\n",
            "Files already downloaded and verified\n",
            "Files already downloaded and verified\n"
          ]
        },
        {
          "name": "stderr",
          "output_type": "stream",
          "text": [
            "100%|██████████| 500/500 [00:27<00:00, 18.20it/s]\n"
          ]
        },
        {
          "name": "stdout",
          "output_type": "stream",
          "text": [
            "Accuracy of the model on the test images: 91.6%\n",
            "Model Size: 21.94 MB\n",
            "Accuracy: 91.60%\n",
            "Execution Time: 27.47 s\n",
            "Model Score: 40.00\n",
            "--------------------------------------------------\n",
            "Epoch 22: (lr = 1.0000000000000002e-06)\n"
          ]
        },
        {
          "name": "stderr",
          "output_type": "stream",
          "text": [
            "100%|██████████| 390/390 [02:19<00:00,  2.80it/s]\n"
          ]
        },
        {
          "name": "stdout",
          "output_type": "stream",
          "text": [
            "Disabling observer for subseq epochs ... (epoch=22)\n",
            "Saving and Scoring ... (epoch=22)\n",
            "Files already downloaded and verified\n",
            "Files already downloaded and verified\n"
          ]
        },
        {
          "name": "stderr",
          "output_type": "stream",
          "text": [
            "100%|██████████| 500/500 [00:27<00:00, 18.02it/s]\n"
          ]
        },
        {
          "name": "stdout",
          "output_type": "stream",
          "text": [
            "Accuracy of the model on the test images: 91.6%\n",
            "Model Size: 21.94 MB\n",
            "Accuracy: 91.60%\n",
            "Execution Time: 27.74 s\n",
            "Model Score: 40.00\n",
            "--------------------------------------------------\n",
            "Epoch 23: (lr = 1.0000000000000002e-06)\n"
          ]
        },
        {
          "name": "stderr",
          "output_type": "stream",
          "text": [
            "100%|██████████| 390/390 [02:19<00:00,  2.81it/s]\n"
          ]
        },
        {
          "name": "stdout",
          "output_type": "stream",
          "text": [
            "Disabling observer for subseq epochs ... (epoch=23)\n",
            "Saving and Scoring ... (epoch=23)\n",
            "Files already downloaded and verified\n",
            "Files already downloaded and verified\n"
          ]
        },
        {
          "name": "stderr",
          "output_type": "stream",
          "text": [
            "100%|██████████| 500/500 [00:27<00:00, 18.15it/s]\n"
          ]
        },
        {
          "name": "stdout",
          "output_type": "stream",
          "text": [
            "Accuracy of the model on the test images: 91.6%\n",
            "Model Size: 21.94 MB\n",
            "Accuracy: 91.60%\n",
            "Execution Time: 27.55 s\n",
            "Model Score: 40.00\n",
            "--------------------------------------------------\n",
            "Epoch 24: (lr = 1.0000000000000002e-06)\n"
          ]
        },
        {
          "name": "stderr",
          "output_type": "stream",
          "text": [
            "100%|██████████| 390/390 [02:19<00:00,  2.80it/s]\n"
          ]
        },
        {
          "name": "stdout",
          "output_type": "stream",
          "text": [
            "Disabling observer for subseq epochs ... (epoch=24)\n",
            "Saving and Scoring ... (epoch=24)\n",
            "Files already downloaded and verified\n",
            "Files already downloaded and verified\n"
          ]
        },
        {
          "name": "stderr",
          "output_type": "stream",
          "text": [
            "100%|██████████| 500/500 [00:27<00:00, 18.30it/s]\n"
          ]
        },
        {
          "name": "stdout",
          "output_type": "stream",
          "text": [
            "Accuracy of the model on the test images: 91.2%\n",
            "Model Size: 21.94 MB\n",
            "Accuracy: 91.20%\n",
            "Execution Time: 27.33 s\n",
            "Model Score: 40.00\n",
            "--------------------------------------------------\n",
            "Epoch 25: (lr = 1.0000000000000002e-06)\n"
          ]
        },
        {
          "name": "stderr",
          "output_type": "stream",
          "text": [
            "100%|██████████| 390/390 [02:18<00:00,  2.81it/s]\n"
          ]
        },
        {
          "name": "stdout",
          "output_type": "stream",
          "text": [
            "Disabling observer for subseq epochs ... (epoch=25)\n",
            "Saving and Scoring ... (epoch=25)\n",
            "Files already downloaded and verified\n",
            "Files already downloaded and verified\n"
          ]
        },
        {
          "name": "stderr",
          "output_type": "stream",
          "text": [
            "100%|██████████| 500/500 [00:27<00:00, 18.36it/s]\n"
          ]
        },
        {
          "name": "stdout",
          "output_type": "stream",
          "text": [
            "Accuracy of the model on the test images: 91.6%\n",
            "Model Size: 21.94 MB\n",
            "Accuracy: 91.60%\n",
            "Execution Time: 27.23 s\n",
            "Model Score: 40.00\n",
            "--------------------------------------------------\n",
            "Epoch 26: (lr = 1.0000000000000002e-06)\n"
          ]
        },
        {
          "name": "stderr",
          "output_type": "stream",
          "text": [
            "100%|██████████| 390/390 [02:19<00:00,  2.80it/s]\n"
          ]
        },
        {
          "name": "stdout",
          "output_type": "stream",
          "text": [
            "Disabling observer for subseq epochs ... (epoch=26)\n",
            "Saving and Scoring ... (epoch=26)\n",
            "Files already downloaded and verified\n",
            "Files already downloaded and verified\n"
          ]
        },
        {
          "name": "stderr",
          "output_type": "stream",
          "text": [
            "100%|██████████| 500/500 [00:27<00:00, 18.13it/s]\n"
          ]
        },
        {
          "name": "stdout",
          "output_type": "stream",
          "text": [
            "Accuracy of the model on the test images: 91.2%\n",
            "Model Size: 21.94 MB\n",
            "Accuracy: 91.20%\n",
            "Execution Time: 27.58 s\n",
            "Model Score: 40.00\n",
            "--------------------------------------------------\n",
            "Epoch 27: (lr = 1.0000000000000002e-06)\n"
          ]
        },
        {
          "name": "stderr",
          "output_type": "stream",
          "text": [
            "100%|██████████| 390/390 [02:18<00:00,  2.81it/s]\n"
          ]
        },
        {
          "name": "stdout",
          "output_type": "stream",
          "text": [
            "Disabling observer for subseq epochs ... (epoch=27)\n",
            "Saving and Scoring ... (epoch=27)\n",
            "Files already downloaded and verified\n",
            "Files already downloaded and verified\n"
          ]
        },
        {
          "name": "stderr",
          "output_type": "stream",
          "text": [
            "100%|██████████| 500/500 [00:27<00:00, 18.15it/s]\n"
          ]
        },
        {
          "name": "stdout",
          "output_type": "stream",
          "text": [
            "Accuracy of the model on the test images: 91.0%\n",
            "Model Size: 21.94 MB\n",
            "Accuracy: 91.00%\n",
            "Execution Time: 27.55 s\n",
            "Model Score: 40.00\n",
            "--------------------------------------------------\n",
            "Epoch 28: (lr = 1.0000000000000002e-06)\n"
          ]
        },
        {
          "name": "stderr",
          "output_type": "stream",
          "text": [
            "100%|██████████| 390/390 [02:19<00:00,  2.80it/s]\n"
          ]
        },
        {
          "name": "stdout",
          "output_type": "stream",
          "text": [
            "Disabling observer for subseq epochs ... (epoch=28)\n",
            "Saving and Scoring ... (epoch=28)\n",
            "Files already downloaded and verified\n",
            "Files already downloaded and verified\n"
          ]
        },
        {
          "name": "stderr",
          "output_type": "stream",
          "text": [
            "100%|██████████| 500/500 [00:27<00:00, 18.26it/s]\n"
          ]
        },
        {
          "name": "stdout",
          "output_type": "stream",
          "text": [
            "Accuracy of the model on the test images: 90.4%\n",
            "Model Size: 21.94 MB\n",
            "Accuracy: 90.40%\n",
            "Execution Time: 27.39 s\n",
            "Model Score: 38.00\n",
            "--------------------------------------------------\n",
            "Epoch 29: (lr = 1.0000000000000002e-06)\n"
          ]
        },
        {
          "name": "stderr",
          "output_type": "stream",
          "text": [
            "100%|██████████| 390/390 [02:18<00:00,  2.81it/s]\n"
          ]
        },
        {
          "name": "stdout",
          "output_type": "stream",
          "text": [
            "Disabling observer for subseq epochs ... (epoch=29)\n",
            "Saving and Scoring ... (epoch=29)\n",
            "Files already downloaded and verified\n",
            "Files already downloaded and verified\n"
          ]
        },
        {
          "name": "stderr",
          "output_type": "stream",
          "text": [
            "100%|██████████| 500/500 [00:27<00:00, 17.92it/s]\n"
          ]
        },
        {
          "name": "stdout",
          "output_type": "stream",
          "text": [
            "Accuracy of the model on the test images: 91.6%\n",
            "Model Size: 21.94 MB\n",
            "Accuracy: 91.60%\n",
            "Execution Time: 27.91 s\n",
            "Model Score: 40.00\n",
            "--------------------------------------------------\n",
            "Epoch 30: (lr = 1.0000000000000002e-06)\n"
          ]
        },
        {
          "name": "stderr",
          "output_type": "stream",
          "text": [
            "100%|██████████| 390/390 [02:18<00:00,  2.81it/s]\n"
          ]
        },
        {
          "name": "stdout",
          "output_type": "stream",
          "text": [
            "Disabling observer for subseq epochs ... (epoch=30)\n",
            "Saving and Scoring ... (epoch=30)\n",
            "Files already downloaded and verified\n",
            "Files already downloaded and verified\n"
          ]
        },
        {
          "name": "stderr",
          "output_type": "stream",
          "text": [
            "100%|██████████| 500/500 [00:27<00:00, 18.22it/s]"
          ]
        },
        {
          "name": "stdout",
          "output_type": "stream",
          "text": [
            "Accuracy of the model on the test images: 91.2%\n",
            "Model Size: 21.94 MB\n",
            "Accuracy: 91.20%\n",
            "Execution Time: 27.45 s\n",
            "Model Score: 40.00\n"
          ]
        },
        {
          "name": "stderr",
          "output_type": "stream",
          "text": [
            "\n"
          ]
        }
      ],
      "source": [
        "train_qat(prepared_model, 1e-5)"
      ]
    },
    {
      "cell_type": "code",
      "execution_count": null,
      "metadata": {},
      "outputs": [],
      "source": []
    }
  ],
  "metadata": {
    "accelerator": "GPU",
    "colab": {
      "collapsed_sections": [
        "Ou1NYqlNIoXf",
        "V_xk1sSXoqsJ",
        "NO1-XuLJBkL2"
      ],
      "gpuType": "T4",
      "provenance": []
    },
    "kernelspec": {
      "display_name": "Python 3",
      "name": "python3"
    },
    "language_info": {
      "codemirror_mode": {
        "name": "ipython",
        "version": 3
      },
      "file_extension": ".py",
      "mimetype": "text/x-python",
      "name": "python",
      "nbconvert_exporter": "python",
      "pygments_lexer": "ipython3",
      "version": "3.11.7"
    }
  },
  "nbformat": 4,
  "nbformat_minor": 0
}
